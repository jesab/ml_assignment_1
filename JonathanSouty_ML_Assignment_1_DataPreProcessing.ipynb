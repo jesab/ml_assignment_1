{
 "cells": [
  {
   "cell_type": "markdown",
   "metadata": {},
   "source": [
    "# Jonathan Souty - Inlämning 1\n",
    "## 1. Data Exploration"
   ]
  },
  {
   "cell_type": "markdown",
   "metadata": {},
   "source": [
    "Importing the libraries we will be using"
   ]
  },
  {
   "cell_type": "code",
   "execution_count": null,
   "metadata": {},
   "outputs": [],
   "source": [
    "import pandas as pd\n",
    "import numpy as np\n",
    "import matplotlib.pyplot as plt\n",
    "from sklearn.preprocessing import MinMaxScaler\n",
    "\n",
    "line_break = '\\n' + ('-' * 50) + '\\n'"
   ]
  },
  {
   "cell_type": "markdown",
   "metadata": {},
   "source": [
    "Defining the local file path and loading it into a pandas dataframe"
   ]
  },
  {
   "cell_type": "code",
   "execution_count": null,
   "metadata": {},
   "outputs": [],
   "source": [
    "file_path = 'C:/Users/jonat/Documents/python/pyabon/ml_inlämning_1/AmazonDataSales.csv'\n",
    "df = pd.read_csv(file_path)"
   ]
  },
  {
   "cell_type": "markdown",
   "metadata": {},
   "source": [
    "First we get an overview of our data, the pandas function to display all columns when running df.head() is nice here because we are just above the limit where it cuts out a few of our columns"
   ]
  },
  {
   "cell_type": "code",
   "execution_count": null,
   "metadata": {},
   "outputs": [],
   "source": [
    "# setting option to display all the columns\n",
    "pd.set_option('display.max_columns', None)\n",
    "# using df.head() instead of print(df.head()) gives a better view of the data\n",
    "df.head()"
   ]
  },
  {
   "cell_type": "markdown",
   "metadata": {},
   "source": [
    "Here we learn more about each column in the dataset to get a better understanding of our cleaning and transformation needs"
   ]
  },
  {
   "cell_type": "code",
   "execution_count": null,
   "metadata": {},
   "outputs": [],
   "source": [
    "# describe the dataframe\n",
    "print(df.describe(include='all'))\n",
    "\n",
    "# total rows = 128 975\n",
    "# there are a few duplicates of Order ID, seems like its the same order but with different products"
   ]
  },
  {
   "cell_type": "markdown",
   "metadata": {},
   "source": [
    "Checking for any odd or unwanted datatypes. For example, here we learn that the 'B2B' column is of the boolean datatype, which we would rather have as integers (0, 1)"
   ]
  },
  {
   "cell_type": "code",
   "execution_count": null,
   "metadata": {},
   "outputs": [],
   "source": [
    "# print datatypes\n",
    "df.dtypes"
   ]
  },
  {
   "cell_type": "markdown",
   "metadata": {},
   "source": [
    "Checking the columns for missing values to help us make decisions on how to handle the inconsistencies. We either fill the missing data using some form of logic or we drop certain columns and rows"
   ]
  },
  {
   "cell_type": "code",
   "execution_count": null,
   "metadata": {},
   "outputs": [],
   "source": [
    "# check for missing values\n",
    "print(\"Count of missing values per column:\")\n",
    "print(df.isnull().sum())"
   ]
  },
  {
   "cell_type": "markdown",
   "metadata": {},
   "source": [
    "We also check for duplicates, I did notice that we have a few hidden duplicates."
   ]
  },
  {
   "cell_type": "code",
   "execution_count": null,
   "metadata": {},
   "outputs": [],
   "source": [
    "# check for duplicates in all columns\n",
    "print(\"Count of duplicates per column:\")\n",
    "print(df.duplicated().sum())"
   ]
  },
  {
   "cell_type": "markdown",
   "metadata": {},
   "source": [
    "## 2. Data Cleaning"
   ]
  },
  {
   "cell_type": "markdown",
   "metadata": {},
   "source": [
    "#### I used my own reasoning and with some help of the provided DataProcessMLSemi.py to figure out the cleaning needs"
   ]
  },
  {
   "cell_type": "markdown",
   "metadata": {},
   "source": [
    "We have 6872 missing values in the Courier Status column out of the ~128k total"
   ]
  },
  {
   "cell_type": "code",
   "execution_count": null,
   "metadata": {},
   "outputs": [],
   "source": [
    "# check Courier Status column aswell as how many null values there are\n",
    "print(df['Courier Status'].value_counts(dropna=False))"
   ]
  },
  {
   "cell_type": "markdown",
   "metadata": {},
   "source": [
    "I decided to replace the NaN values with 'Unknown'"
   ]
  },
  {
   "cell_type": "code",
   "execution_count": null,
   "metadata": {},
   "outputs": [],
   "source": [
    "# replace NaN values with 'Unknown'\n",
    "df['Courier Status'].fillna('Unknown', inplace=True)\n",
    "print(df['Courier Status'].value_counts(dropna=False))"
   ]
  },
  {
   "cell_type": "markdown",
   "metadata": {},
   "source": [
    "Getting a better idea of how to handle the 'currency' column"
   ]
  },
  {
   "cell_type": "code",
   "execution_count": null,
   "metadata": {},
   "outputs": [],
   "source": [
    "# check the currency column\n",
    "print(df['currency'].value_counts(dropna=False))\n",
    "\n",
    "print(line_break)\n",
    "\n",
    "# print the rows where currency is null\n",
    "print(df[df['currency'].isnull()])\n",
    "\n",
    "print(line_break)\n",
    "\n",
    "# check how many rows there are where currency is null but the Amount column isnt null\n",
    "print('Rows with null currency but not null Amount:')\n",
    "print(df[(df['currency'].isnull()) & (df['Amount'].notnull())])"
   ]
  },
  {
   "cell_type": "markdown",
   "metadata": {},
   "source": [
    "Since all of the missing currency inputs also has ship-country = India, I decided to fill the missing currencies with INR"
   ]
  },
  {
   "cell_type": "code",
   "execution_count": null,
   "metadata": {},
   "outputs": [],
   "source": [
    "# we only have INR currency so its safe to assume that the null values are INR\n",
    "df['currency'].fillna('INR', inplace=True)\n",
    "print(df['currency'].value_counts(dropna=False))"
   ]
  },
  {
   "cell_type": "markdown",
   "metadata": {},
   "source": [
    "In the data exploration phase phase I noticed that we have some NaN values in the 'ship-*' columns so here we dive deeper into those columns"
   ]
  },
  {
   "cell_type": "code",
   "execution_count": null,
   "metadata": {},
   "outputs": [],
   "source": [
    "# check the ship-city, ship-state, ship-postal-code, ship-country columns for NaN values\n",
    "print(df['ship-city'].isnull().sum())\n",
    "print(df['ship-state'].isnull().sum())\n",
    "print(df['ship-postal-code'].isnull().sum())\n",
    "print(df['ship-country'].isnull().sum())\n",
    "\n",
    "print(line_break)\n",
    "\n",
    "# check the rows where ship-city is not null\n",
    "print(df[df['ship-city'].isnull()])"
   ]
  },
  {
   "cell_type": "markdown",
   "metadata": {},
   "source": [
    "I determined that its safe to fill the NaN values with 'Unknown' because I feel like those values will not have an impact on the analysis"
   ]
  },
  {
   "cell_type": "code",
   "execution_count": null,
   "metadata": {},
   "outputs": [],
   "source": [
    "# filling missing values with 'Unknown' in columns ship-city, ship-state, ship-country\n",
    "df['ship-city'].fillna('Unknown', inplace=True)\n",
    "df['ship-state'].fillna('Unknown', inplace=True)\n",
    "df['ship-country'].fillna('Unknown', inplace=True)\n",
    "\n",
    "# since ship-postal-code is a float column i will change it to string and change the missing values to 'Unknown', we can leave it as string as we wont be doing any calculations on it\n",
    "df['ship-postal-code'] = df['ship-postal-code'].astype(str)\n",
    "df['ship-postal-code'].fillna('Unknown', inplace=True)"
   ]
  },
  {
   "cell_type": "markdown",
   "metadata": {},
   "source": [
    " Noticed a high amount of hidden duplicates in the 'ship-city' column, as you can see below we have 8 different variates of 'Ahmedabad'"
   ]
  },
  {
   "cell_type": "markdown",
   "metadata": {},
   "source": [
    "It seems to be an issue with how the data is being inputted, will not solve this issue right now"
   ]
  },
  {
   "cell_type": "code",
   "execution_count": null,
   "metadata": {},
   "outputs": [],
   "source": [
    "# filter the DataFrame for rows where 'ship-city' contains 'Ahmedabad'\n",
    "ahmedabad_df = df[df['ship-city'].str.contains('Ahmedabad', na=False)]\n",
    "\n",
    "# print the value counts of different variations of 'Ahmedabad' in the 'ship-city' column\n",
    "print(ahmedabad_df['ship-city'].value_counts(dropna=False))"
   ]
  },
  {
   "cell_type": "markdown",
   "metadata": {},
   "source": [
    "These two columns has alot of mixed lower/uppercase strings. For now we will just convert all the strings in ship-city and ship-state to lowercase"
   ]
  },
  {
   "cell_type": "code",
   "execution_count": null,
   "metadata": {},
   "outputs": [],
   "source": [
    "# convert all the strings in 'ship-city' and 'ships-state' columns to lowercase\n",
    "df['ship-city'] = df['ship-city'].str.lower()\n",
    "df['ship-state'] = df['ship-state'].str.lower()"
   ]
  },
  {
   "cell_type": "markdown",
   "metadata": {},
   "source": [
    "A simple way to visualize which columns have a large amount of missing values"
   ]
  },
  {
   "cell_type": "code",
   "execution_count": null,
   "metadata": {},
   "outputs": [],
   "source": [
    "# check all the columns for missing values in percentage compared to total rows and sort them in descending order\n",
    "missing_percentage = df.isnull().sum() / len(df) * 100\n",
    "missing_percentage.sort_values(ascending=False, inplace=True)\n",
    "print(missing_percentage)"
   ]
  },
  {
   "cell_type": "markdown",
   "metadata": {},
   "source": [
    "As we saw in the earlier block 'fulfilled-by', 'Unnamed: 22', 'promotion-ids' columns has 34-69% missing values so we will drop those columns"
   ]
  },
  {
   "cell_type": "code",
   "execution_count": null,
   "metadata": {},
   "outputs": [],
   "source": [
    "# dropping the columns with more than 34-69% values missing\n",
    "df.drop(['fulfilled-by', 'Unnamed: 22', 'promotion-ids'], axis=1, inplace=True)"
   ]
  },
  {
   "cell_type": "markdown",
   "metadata": {},
   "source": [
    "I cant really justify filling the missing values in the 'Amount' column with anything that will have a positive impact on the model so I decided to drop the ~5% of total rows"
   ]
  },
  {
   "cell_type": "code",
   "execution_count": 16,
   "metadata": {},
   "outputs": [
    {
     "name": "stdout",
     "output_type": "stream",
     "text": [
      "Total rows remaining:\n",
      "121180\n"
     ]
    }
   ],
   "source": [
    "# since the Amount column only has about 5% null values i have decided to drop those rows\n",
    "df.dropna(subset=['Amount'], inplace=True)\n",
    "\n",
    "# count total rows of amount\n",
    "print('Total rows remaining:')\n",
    "print(len(df['Amount']))"
   ]
  },
  {
   "cell_type": "markdown",
   "metadata": {},
   "source": [
    "Analyzing the 'Qty' and 'Amount' columns for negative values and correcting them if found"
   ]
  },
  {
   "cell_type": "code",
   "execution_count": 19,
   "metadata": {},
   "outputs": [
    {
     "name": "stdout",
     "output_type": "stream",
     "text": [
      "Qty has no negative values\n",
      "Amount has no negative values\n"
     ]
    }
   ],
   "source": [
    "# check if the 'Qty' column has any negative values and correct them if true\n",
    "if (df['Qty'] < 0).any():\n",
    "    print('Qty has negative values. Corrected them now...')\n",
    "    df['Qty'] = df['Qty'].clip(lower=0)\n",
    "else:\n",
    "    print('Qty has no negative values')\n",
    "\n",
    "# check if the 'Amount' column has any negative values and correct them if true\n",
    "if (df['Amount'] < 0).any():\n",
    "    print('Amount has negative values. Corrected them now...')\n",
    "    df['Amount'] = df['Amount'].clip(lower=0)\n",
    "else:\n",
    "    print('Amount has no negative values')"
   ]
  },
  {
   "cell_type": "markdown",
   "metadata": {},
   "source": [
    "First I planned to use a normal if islower then convert to upper but apparently that wouldn't work with mixed upper/lower, the lambda function however, is able to do this."
   ]
  },
  {
   "cell_type": "code",
   "execution_count": 21,
   "metadata": {},
   "outputs": [
    {
     "name": "stdout",
     "output_type": "stream",
     "text": [
      "Lowercase characters found in 56912/121180 rows of Style column. Converted them to uppercase.\n"
     ]
    }
   ],
   "source": [
    "# checks for any lowercase character within each string and converts them to uppercase\n",
    "lowercase_count = df['Style'].apply(lambda x: any(c.islower() for c in x)).sum()\n",
    "total_row_count = len(df['Style'])\n",
    "\n",
    "if lowercase_count > 0:\n",
    "    print(f'Lowercase characters found in {lowercase_count}/{total_row_count} rows of Style column. Converted them to uppercase.')\n",
    "    df['Style'] = df['Style'].str.upper()\n",
    "else:\n",
    "    print('All characters in Style column are already uppercase.')"
   ]
  },
  {
   "cell_type": "markdown",
   "metadata": {},
   "source": [
    "Just to test if the code in the block above works properly"
   ]
  },
  {
   "cell_type": "code",
   "execution_count": 20,
   "metadata": {},
   "outputs": [
    {
     "name": "stdout",
     "output_type": "stream",
     "text": [
      "All characters in Style column are already uppercase.\n"
     ]
    }
   ],
   "source": [
    "half_count = len(df) // 2\n",
    "\n",
    "# convert the first half of the 'Style' column to lowercase\n",
    "df.loc[:half_count, 'Style'] = df.loc[:half_count, 'Style'].str.lower()\n",
    "\n",
    "# same as previous code block just to get the order right\n",
    "if lowercase_count > 0:\n",
    "    print(f'Lowercase characters found in {lowercase_count}/{total_row_count} rows of Style column. Converted them to uppercase.')\n",
    "    df['Style'] = df['Style'].str.upper()\n",
    "else:\n",
    "    print('All characters in Style column are already uppercase.')"
   ]
  },
  {
   "cell_type": "markdown",
   "metadata": {},
   "source": [
    "Converting the 'Date' column to datetime and changing the format to the \"best\" one :D"
   ]
  },
  {
   "cell_type": "code",
   "execution_count": null,
   "metadata": {},
   "outputs": [],
   "source": [
    "# convert 'Date' column to datetime and change format to YYYY-MM-DD\n",
    "df['Date'] = pd.to_datetime(df['Date'], format='%m-%d-%y', errors='coerce')\n",
    "\n",
    "# print the first 5 rows of the Date column\n",
    "print(df['Date'].head())"
   ]
  },
  {
   "cell_type": "markdown",
   "metadata": {},
   "source": [
    "I noticed some mixed lowercase/uppercase in the 'Category' column so I decided to change them all to lowercase"
   ]
  },
  {
   "cell_type": "code",
   "execution_count": null,
   "metadata": {},
   "outputs": [],
   "source": [
    "# change all the 'Category' column values to lowercase\n",
    "df['Category'] = df['Category'].str.lower()\n",
    "\n",
    "# check the 'Category' column\n",
    "print(df['Category'].value_counts(dropna=False))"
   ]
  },
  {
   "cell_type": "markdown",
   "metadata": {},
   "source": [
    "Just doing some midway data exploration to see if there is anything else that needs to be done in the cleaning phase"
   ]
  },
  {
   "cell_type": "code",
   "execution_count": null,
   "metadata": {},
   "outputs": [],
   "source": [
    "# check the cleaned dataset\n",
    "print(\"DataFrame Description:\")\n",
    "print(df.describe(include='all'))\n",
    "\n",
    "print(line_break)\n",
    "\n",
    "# check all columns for missing values\n",
    "print(\"Count of missing values per column:\")\n",
    "print(df.isnull().sum())\n",
    "\n",
    "print(line_break)\n",
    "\n",
    "# print total remaining rows\n",
    "print('Total rows remaining:')\n",
    "print(len(df))"
   ]
  },
  {
   "cell_type": "markdown",
   "metadata": {},
   "source": [
    "## 3. Feature Engineering"
   ]
  },
  {
   "cell_type": "markdown",
   "metadata": {},
   "source": [
    "#### First we will create new columns using the Date column\n",
    " I chose to only extract Weekday (Monday-Sunday) and Is_weekday TRUE/FALSE (0/1)"
   ]
  },
  {
   "cell_type": "code",
   "execution_count": 25,
   "metadata": {},
   "outputs": [],
   "source": [
    "# adding a column for 'Weekday' using the 'Date' column\n",
    "df['Weekday'] = df['Date'].dt.day_name()\n",
    "\n",
    "# adding a column for 'Is_weekday' using the 'Date' column\n",
    "# the lambda function will check if the day of the week is 5 or 6 (saturday or sunday) and return 1 if true and 0 if false\n",
    "df['Is_weekday'] = df['Date'].dt.dayofweek.apply(lambda x: 0 if x >= 5 else 1)"
   ]
  },
  {
   "cell_type": "code",
   "execution_count": null,
   "metadata": {},
   "outputs": [],
   "source": [
    "# to check if it works we are printing only weekday and is_weekday columns, one where weekday is monday and the other where weekday is saturday\n",
    "print(df[['Weekday', 'Is_weekday']][df['Weekday'] == 'Monday'].head())\n",
    "print(df[['Weekday', 'Is_weekday']][df['Weekday'] == 'Saturday'].head())"
   ]
  },
  {
   "cell_type": "markdown",
   "metadata": {},
   "source": [
    " Converting the 'B2B' column from TRUE/FALSE to binary. I learned that I can instantly convert a bool column to int and all the values TRUE/FALSE will be automatically converted to 1/0"
   ]
  },
  {
   "cell_type": "code",
   "execution_count": 29,
   "metadata": {},
   "outputs": [
    {
     "name": "stdout",
     "output_type": "stream",
     "text": [
      "B2B\n",
      "0    120337\n",
      "1       843\n",
      "Name: count, dtype: int64\n",
      "\n",
      "--------------------------------------------------\n",
      "\n",
      "Datatype:\n",
      "int32\n"
     ]
    }
   ],
   "source": [
    "# check the values in the 'B2B' column\n",
    "print(df['B2B'].value_counts(dropna=False))\n",
    "\n",
    "print(line_break)\n",
    "\n",
    "# check the datatype of the 'B2B' column\n",
    "print('Datatype:')\n",
    "print(df['B2B'].dtypes)"
   ]
  },
  {
   "cell_type": "code",
   "execution_count": 30,
   "metadata": {},
   "outputs": [
    {
     "name": "stdout",
     "output_type": "stream",
     "text": [
      "B2B\n",
      "0    120337\n",
      "1       843\n",
      "Name: count, dtype: int64\n"
     ]
    }
   ],
   "source": [
    "# convert the 'B2B' TRUE values to 1 and FALSE values to 0, since the datatype is bool we can just convert it to int\n",
    "df['B2B'] = df['B2B'].astype(int)\n",
    "print(df['B2B'].value_counts(dropna=False))"
   ]
  },
  {
   "cell_type": "markdown",
   "metadata": {},
   "source": [
    "Getting a better understanding of the 'Amount' column by using the describe function aswell as visualizing it to get a better idea"
   ]
  },
  {
   "cell_type": "code",
   "execution_count": 31,
   "metadata": {},
   "outputs": [
    {
     "name": "stdout",
     "output_type": "stream",
     "text": [
      "Description of 'Amount' column:\n",
      "count    121180.000000\n",
      "mean        648.561465\n",
      "std         281.211687\n",
      "min           0.000000\n",
      "25%         449.000000\n",
      "50%         605.000000\n",
      "75%         788.000000\n",
      "max        5584.000000\n",
      "Name: Amount, dtype: float64\n",
      "\n",
      "--------------------------------------------------\n",
      "\n",
      "Distribution of 'Amount' column:\n"
     ]
    },
    {
     "data": {
      "image/png": "[encoded data removed]",
      "text/plain": [
       "<Figure size 600x300 with 1 Axes>"
      ]
     },
     "metadata": {},
     "output_type": "display_data"
    }
   ],
   "source": [
    "# lets find out more about the 'Amount' column\n",
    "print(\"Description of 'Amount' column:\")\n",
    "print(df['Amount'].describe())\n",
    "\n",
    "print(line_break)\n",
    "\n",
    "# lets visualize the distribution of the 'Amount' column\n",
    "print(\"Distribution of 'Amount' column:\")\n",
    "plt.figure(figsize=(6, 3))\n",
    "plt.hist(df['Amount'], bins=100, edgecolor='black')\n",
    "plt.title('Distribution of Amount')\n",
    "plt.xlabel('Amount')\n",
    "plt.ylabel('Count')\n",
    "plt.axvline(df['Amount'].max(), color='red', linestyle='dashed', linewidth=1)\n",
    "plt.text(df['Amount'].max() + 500, 10000, 'Max', rotation=360)\n",
    "plt.text(df['Amount'].max() + 500, 9000, df['Amount'].max())\n",
    "plt.axvline(df['Amount'].mean(), color='green', linestyle='dashed', linewidth=1)\n",
    "plt.text(df['Amount'].mean() + 500, 10000, 'Mean', rotation=360)\n",
    "plt.text(df['Amount'].mean() + 500, 9000, round(df['Amount'].mean(), 2))\n",
    "plt.show()"
   ]
  },
  {
   "cell_type": "markdown",
   "metadata": {},
   "source": [
    "In the earlier block I learned that we have some extreme outliers, after consulting my colleague mr GPT I decided to do a log transformation on the 'Amount' column"
   ]
  },
  {
   "cell_type": "code",
   "execution_count": 32,
   "metadata": {},
   "outputs": [],
   "source": [
    "# adding 1 to the 'Amount_Log' column to avoid dividing by 0\n",
    "df['Amount_Log'] = np.log(df['Amount'] + 1)\n",
    "\n",
    "# scaling the 'Amount_Log' column using MinMaxScaler to values between 0 and 1\n",
    "scaler = MinMaxScaler()\n",
    "df['Amount_Log_Scaled'] = scaler.fit_transform(df[['Amount_Log']])"
   ]
  },
  {
   "cell_type": "markdown",
   "metadata": {},
   "source": [
    "Visualizing the new columns that I generated"
   ]
  },
  {
   "cell_type": "code",
   "execution_count": 33,
   "metadata": {},
   "outputs": [
    {
     "name": "stdout",
     "output_type": "stream",
     "text": [
      "Description of 'Amount_Log' column:\n",
      "count    121180.000000\n",
      "mean          6.295429\n",
      "std           0.963910\n",
      "min           0.000000\n",
      "25%           6.109248\n",
      "50%           6.406880\n",
      "75%           6.670766\n",
      "max           8.627840\n",
      "Name: Amount_Log, dtype: float64\n",
      "\n",
      "--------------------------------------------------\n",
      "\n",
      "Description of 'Amount_Log_Scaled' column:\n",
      "count    121180.000000\n",
      "mean          0.729665\n",
      "std           0.111721\n",
      "min           0.000000\n",
      "25%           0.708085\n",
      "50%           0.742582\n",
      "75%           0.773168\n",
      "max           1.000000\n",
      "Name: Amount_Log_Scaled, dtype: float64\n",
      "\n",
      "--------------------------------------------------\n",
      "\n",
      "Distribution of 'Amount_Log_Scaled' column:\n"
     ]
    },
    {
     "data": {
      "image/png": "[encoded data removed]",
      "text/plain": [
       "<Figure size 600x300 with 1 Axes>"
      ]
     },
     "metadata": {},
     "output_type": "display_data"
    }
   ],
   "source": [
    "# describe the 'Amount_Log' column\n",
    "print(\"Description of 'Amount_Log' column:\")\n",
    "print(df['Amount_Log'].describe())\n",
    "\n",
    "print(line_break)\n",
    "\n",
    "print(\"Description of 'Amount_Log_Scaled' column:\")\n",
    "print(df['Amount_Log_Scaled'].describe())\n",
    "\n",
    "print(line_break)\n",
    "\n",
    "# lets visualize the distribution of the 'Amount_Log' column\n",
    "print(\"Distribution of 'Amount_Log_Scaled' column:\")\n",
    "plt.figure(figsize=(6, 3))\n",
    "plt.hist(df['Amount_Log_Scaled'], bins=100, edgecolor='black')\n",
    "plt.title('Distribution of Amount_Log_Scaled')\n",
    "plt.xlabel('Amount_Log_Scaled')\n",
    "plt.ylabel('Count')\n",
    "plt.axvline(df['Amount_Log_Scaled'].max(), color='red', linestyle='dashed', linewidth=1)\n",
    "plt.text(df['Amount_Log_Scaled'].max() + 0.1, 10000, 'Max')\n",
    "plt.text(df['Amount_Log_Scaled'].max() + 0.1, 9000, round(df['Amount_Log'].max(), 2))\n",
    "plt.axvline(df['Amount_Log_Scaled'].mean(), color='green', linestyle='dashed', linewidth=1)\n",
    "plt.text(df['Amount_Log_Scaled'].mean() + 0.1, 10000, 'Mean')\n",
    "plt.text(df['Amount_Log_Scaled'].mean() + 0.1, 9000, round(df['Amount_Log'].mean(), 2))\n",
    "plt.show()"
   ]
  },
  {
   "cell_type": "markdown",
   "metadata": {},
   "source": [
    "After doing some research I decided to create 5 bins for the 'Amount' column based on the distribution\n",
    "*    Bin 1: 0 to 0.708 (covers up to the 25th percentile)\n",
    "*    Bin 2: 0.708 to 0.742 (covers the 25th to 50th percentile)\n",
    "*    Bin 3: 0.742 to 0.773 (covers the 50th to 75th percentile)\n",
    "*    Bin 4: 0.773 to 0.887 (covers the 75th percentile to an arbitrary upper value)\n",
    "*    Bin 5: 0.887 to 1 (covers the remaining range)"
   ]
  },
  {
   "cell_type": "code",
   "execution_count": 35,
   "metadata": {},
   "outputs": [],
   "source": [
    "bin_edges = [0, 0.708, 0.742, 0.773, 0.887, 1]\n",
    "\n",
    "bin_labels = ['Min-Q1', 'Q1-Q2', 'Q2-Q3', 'Q3-Q4', 'Q4-Max']\n",
    "\n",
    "df['Amount_Log_Scaled_Bins'] = pd.cut(df['Amount_Log_Scaled'], bins=bin_edges, labels=bin_labels, include_lowest=True)"
   ]
  },
  {
   "cell_type": "markdown",
   "metadata": {},
   "source": [
    "Visualizing the bins"
   ]
  },
  {
   "cell_type": "code",
   "execution_count": 36,
   "metadata": {},
   "outputs": [
    {
     "data": {
      "image/png": "[encoded data removed]",
      "text/plain": [
       "<Figure size 600x400 with 1 Axes>"
      ]
     },
     "metadata": {},
     "output_type": "display_data"
    },
    {
     "name": "stdout",
     "output_type": "stream",
     "text": [
      "Description of 'Amount_Log_Scaled_Bins' column:\n",
      "Amount_Log_Scaled_Bins\n",
      "Q3-Q4     30884\n",
      "Q1-Q2     30232\n",
      "Min-Q1    30172\n",
      "Q2-Q3     29844\n",
      "Q4-Max       48\n",
      "Name: count, dtype: int64\n"
     ]
    }
   ],
   "source": [
    "# barchart for the 'Amount_Log_Scaled_Bins' column\n",
    "\n",
    "plt.figure(figsize=(6, 4))\n",
    "df['Amount_Log_Scaled_Bins'].value_counts().plot(kind='bar')\n",
    "plt.title('Distribution of Amount_Log_Scaled Across Bins')\n",
    "for i in range(df['Amount_Log_Scaled_Bins'].value_counts().shape[0]):\n",
    "    count = df['Amount_Log_Scaled_Bins'].value_counts().values[i]\n",
    "    str_count = str(count)\n",
    "    plt.text(i, count + 1600, str_count, ha='center', va='top')\n",
    "plt.xlabel('Bins')\n",
    "plt.ylabel('Frequency')\n",
    "plt.show()\n",
    "\n",
    "# describe the 'Amount_Log_Scaled_Bins' column\n",
    "print(\"Description of 'Amount_Log_Scaled_Bins' column:\")\n",
    "print(df['Amount_Log_Scaled_Bins'].value_counts(dropna=False))"
   ]
  },
  {
   "cell_type": "markdown",
   "metadata": {},
   "source": [
    "Describing the 'Qty' column we can see that the mean is around 1 with very low standard deviation aswell as the 4th quantile is 1.00 and max is 8, indicates that we have some extreme outliers"
   ]
  },
  {
   "cell_type": "code",
   "execution_count": 38,
   "metadata": {},
   "outputs": [
    {
     "name": "stdout",
     "output_type": "stream",
     "text": [
      "Description of 'Qty' column:\n",
      "count    121180.000000\n",
      "mean          0.961231\n",
      "std           0.214354\n",
      "min           0.000000\n",
      "25%           1.000000\n",
      "50%           1.000000\n",
      "75%           1.000000\n",
      "max           8.000000\n",
      "Name: Qty, dtype: float64\n"
     ]
    }
   ],
   "source": [
    "# lets find out more about the 'Qty' column\n",
    "print(\"Description of 'Qty' column:\")\n",
    "print(df['Qty'].describe())"
   ]
  },
  {
   "cell_type": "markdown",
   "metadata": {},
   "source": [
    "I looked into the data and realized without surprise that the outliers in 'Amount' are on the same rows as the outliers in 'Qty'"
   ]
  },
  {
   "cell_type": "code",
   "execution_count": 39,
   "metadata": {},
   "outputs": [
    {
     "name": "stdout",
     "output_type": "stream",
     "text": [
      "       Qty  Amount\n",
      "2107     3  1128.0\n",
      "3289     3  2175.0\n",
      "11160    5  5495.0\n",
      "17338    4  1316.0\n",
      "19180    3  1326.0\n"
     ]
    }
   ],
   "source": [
    "# print the columns 'Qty' and 'Amount' to see rows where Qty is larger than 2\n",
    "print(df[['Qty', 'Amount']][df['Qty'] > 2].head())"
   ]
  },
  {
   "cell_type": "markdown",
   "metadata": {},
   "source": [
    "Decided to do a log transformation on the 'Qty' column aswell, this time I used the log1p function within the numpy library that handles zero values by adding a + 1 before transformation"
   ]
  },
  {
   "cell_type": "code",
   "execution_count": 41,
   "metadata": {},
   "outputs": [],
   "source": [
    "# we will perform a log transformation on the 'Qty', log1p is used to handle zero values to avoid errors\n",
    "df['Qty_Log'] = np.log1p(df['Qty'])\n",
    "\n",
    "# scaling the 'Qty_Log' column using MinMaxScaler to values between 0 and 1\n",
    "scaler = MinMaxScaler()\n",
    "df['Qty_Log_Scaled'] = scaler.fit_transform(df[['Qty_Log']])"
   ]
  },
  {
   "cell_type": "markdown",
   "metadata": {},
   "source": [
    "I also used the MinMaxScaler to get the values between 0 and 1 in the new Qty_Log_Scaled column"
   ]
  },
  {
   "cell_type": "code",
   "execution_count": 42,
   "metadata": {},
   "outputs": [
    {
     "name": "stdout",
     "output_type": "stream",
     "text": [
      "Description of 'Qty_Log_Scaled' column:\n",
      "Qty_Log_Scaled\n",
      "0.315465    115665\n",
      "0.000000      5136\n",
      "0.500000       337\n",
      "0.630930        31\n",
      "0.732487         8\n",
      "0.815465         2\n",
      "1.000000         1\n",
      "Name: count, dtype: int64\n"
     ]
    }
   ],
   "source": [
    "print(\"Description of 'Qty_Log_Scaled' column:\")\n",
    "print(df['Qty_Log_Scaled'].value_counts())"
   ]
  },
  {
   "cell_type": "markdown",
   "metadata": {},
   "source": [
    "Evaluating the columns to see which ones we should do one-hot encoding on"
   ]
  },
  {
   "cell_type": "code",
   "execution_count": 43,
   "metadata": {},
   "outputs": [
    {
     "name": "stdout",
     "output_type": "stream",
     "text": [
      "Unique values in each column:\n",
      "index                     121180\n",
      "Order ID                  113030\n",
      "Date                          91\n",
      "Status                        12\n",
      "Fulfilment                     2\n",
      "Sales Channel                  1\n",
      "ship-service-level             2\n",
      "Style                       1373\n",
      "SKU                         7157\n",
      "Category                       9\n",
      "Size                          11\n",
      "ASIN                        7153\n",
      "Courier Status                 3\n",
      "Qty                            7\n",
      "currency                       1\n",
      "Amount                      1410\n",
      "ship-city                   8704\n",
      "ship-state                    68\n",
      "ship-postal-code            9273\n",
      "ship-country                   1\n",
      "promotion-ids               5787\n",
      "B2B                            2\n",
      "fulfilled-by                   1\n",
      "Unnamed: 22                    1\n",
      "Weekday                        7\n",
      "Is_weekday                     2\n",
      "Amount_Log                  1410\n",
      "Amount_Log_Scaled           1410\n",
      "Amount_Log_Scaled_Bins         5\n",
      "Qty_Log                        7\n",
      "Qty_Log_Scaled                 7\n",
      "dtype: int64\n"
     ]
    }
   ],
   "source": [
    "# get a list of the columns and how many unique values they have\n",
    "print(\"Unique values in each column:\")\n",
    "print(df.nunique())"
   ]
  },
  {
   "cell_type": "markdown",
   "metadata": {},
   "source": [
    "Since I don't really know which algorithm will be used or how the model will be trained on the data I decided to just encode one column to test it out"
   ]
  },
  {
   "cell_type": "code",
   "execution_count": 44,
   "metadata": {},
   "outputs": [],
   "source": [
    "# one-hot encode the 'Fulfilment' column into 'Fulfilment_Amazon' and 'Fulfilment_Merchant'\n",
    "df = pd.get_dummies(df, columns=['Fulfilment'], prefix=['Fulfilment'])\n",
    "# and convert the new columns to int\n",
    "df['Fulfilment_Merchant'] = df['Fulfilment_Merchant'].astype(int)\n",
    "df['Fulfilment_Amazon'] = df['Fulfilment_Amazon'].astype(int)"
   ]
  },
  {
   "cell_type": "markdown",
   "metadata": {},
   "source": [
    "There seems to be a a lot of factors to consider when choosing which categorical columns to perform OneHot Encoding on"
   ]
  },
  {
   "cell_type": "markdown",
   "metadata": {},
   "source": [
    "#### Printing the finished dataframe"
   ]
  },
  {
   "cell_type": "code",
   "execution_count": 46,
   "metadata": {},
   "outputs": [
    {
     "data": {
      "text/html": [
       "<div>\n",
       "<style scoped>\n",
       "    .dataframe tbody tr th:only-of-type {\n",
       "        vertical-align: middle;\n",
       "    }\n",
       "\n",
       "    .dataframe tbody tr th {\n",
       "        vertical-align: top;\n",
       "    }\n",
       "\n",
       "    .dataframe thead th {\n",
       "        text-align: right;\n",
       "    }\n",
       "</style>\n",
       "<table border=\"1\" class=\"dataframe\">\n",
       "  <thead>\n",
       "    <tr style=\"text-align: right;\">\n",
       "      <th></th>\n",
       "      <th>index</th>\n",
       "      <th>Order ID</th>\n",
       "      <th>Date</th>\n",
       "      <th>Status</th>\n",
       "      <th>Sales Channel</th>\n",
       "      <th>ship-service-level</th>\n",
       "      <th>Style</th>\n",
       "      <th>SKU</th>\n",
       "      <th>Category</th>\n",
       "      <th>Size</th>\n",
       "      <th>ASIN</th>\n",
       "      <th>Courier Status</th>\n",
       "      <th>Qty</th>\n",
       "      <th>currency</th>\n",
       "      <th>Amount</th>\n",
       "      <th>ship-city</th>\n",
       "      <th>ship-state</th>\n",
       "      <th>ship-postal-code</th>\n",
       "      <th>ship-country</th>\n",
       "      <th>promotion-ids</th>\n",
       "      <th>B2B</th>\n",
       "      <th>fulfilled-by</th>\n",
       "      <th>Unnamed: 22</th>\n",
       "      <th>Weekday</th>\n",
       "      <th>Is_weekday</th>\n",
       "      <th>Amount_Log</th>\n",
       "      <th>Amount_Log_Scaled</th>\n",
       "      <th>Amount_Log_Scaled_Bins</th>\n",
       "      <th>Qty_Log</th>\n",
       "      <th>Qty_Log_Scaled</th>\n",
       "      <th>Fulfilment_Amazon</th>\n",
       "      <th>Fulfilment_Merchant</th>\n",
       "    </tr>\n",
       "  </thead>\n",
       "  <tbody>\n",
       "    <tr>\n",
       "      <th>0</th>\n",
       "      <td>0</td>\n",
       "      <td>405-8078784-5731545</td>\n",
       "      <td>2022-04-30</td>\n",
       "      <td>Cancelled</td>\n",
       "      <td>Amazon.in</td>\n",
       "      <td>Standard</td>\n",
       "      <td>SET389</td>\n",
       "      <td>SET389-KR-NP-S</td>\n",
       "      <td>set</td>\n",
       "      <td>S</td>\n",
       "      <td>B09KXVBD7Z</td>\n",
       "      <td>Unknown</td>\n",
       "      <td>0</td>\n",
       "      <td>INR</td>\n",
       "      <td>647.62</td>\n",
       "      <td>MUMBAI</td>\n",
       "      <td>MAHARASHTRA</td>\n",
       "      <td>400081.0</td>\n",
       "      <td>IN</td>\n",
       "      <td>NaN</td>\n",
       "      <td>0</td>\n",
       "      <td>Easy Ship</td>\n",
       "      <td>NaN</td>\n",
       "      <td>Saturday</td>\n",
       "      <td>0</td>\n",
       "      <td>6.474847</td>\n",
       "      <td>0.750460</td>\n",
       "      <td>Q2-Q3</td>\n",
       "      <td>0.000000</td>\n",
       "      <td>0.000000</td>\n",
       "      <td>0</td>\n",
       "      <td>1</td>\n",
       "    </tr>\n",
       "    <tr>\n",
       "      <th>1</th>\n",
       "      <td>1</td>\n",
       "      <td>171-9198151-1101146</td>\n",
       "      <td>2022-04-30</td>\n",
       "      <td>Shipped - Delivered to Buyer</td>\n",
       "      <td>Amazon.in</td>\n",
       "      <td>Standard</td>\n",
       "      <td>JNE3781</td>\n",
       "      <td>JNE3781-KR-XXXL</td>\n",
       "      <td>kurta</td>\n",
       "      <td>3XL</td>\n",
       "      <td>B09K3WFS32</td>\n",
       "      <td>Shipped</td>\n",
       "      <td>1</td>\n",
       "      <td>INR</td>\n",
       "      <td>406.00</td>\n",
       "      <td>BENGALURU</td>\n",
       "      <td>KARNATAKA</td>\n",
       "      <td>560085.0</td>\n",
       "      <td>IN</td>\n",
       "      <td>Amazon PLCC Free-Financing Universal Merchant ...</td>\n",
       "      <td>0</td>\n",
       "      <td>Easy Ship</td>\n",
       "      <td>NaN</td>\n",
       "      <td>Saturday</td>\n",
       "      <td>0</td>\n",
       "      <td>6.008813</td>\n",
       "      <td>0.696445</td>\n",
       "      <td>Min-Q1</td>\n",
       "      <td>0.693147</td>\n",
       "      <td>0.315465</td>\n",
       "      <td>0</td>\n",
       "      <td>1</td>\n",
       "    </tr>\n",
       "    <tr>\n",
       "      <th>2</th>\n",
       "      <td>2</td>\n",
       "      <td>404-0687676-7273146</td>\n",
       "      <td>2022-04-30</td>\n",
       "      <td>Shipped</td>\n",
       "      <td>Amazon.in</td>\n",
       "      <td>Expedited</td>\n",
       "      <td>JNE3371</td>\n",
       "      <td>JNE3371-KR-XL</td>\n",
       "      <td>kurta</td>\n",
       "      <td>XL</td>\n",
       "      <td>B07WV4JV4D</td>\n",
       "      <td>Shipped</td>\n",
       "      <td>1</td>\n",
       "      <td>INR</td>\n",
       "      <td>329.00</td>\n",
       "      <td>NAVI MUMBAI</td>\n",
       "      <td>MAHARASHTRA</td>\n",
       "      <td>410210.0</td>\n",
       "      <td>IN</td>\n",
       "      <td>IN Core Free Shipping 2015/04/08 23-48-5-108</td>\n",
       "      <td>1</td>\n",
       "      <td>NaN</td>\n",
       "      <td>NaN</td>\n",
       "      <td>Saturday</td>\n",
       "      <td>0</td>\n",
       "      <td>5.799093</td>\n",
       "      <td>0.672137</td>\n",
       "      <td>Min-Q1</td>\n",
       "      <td>0.693147</td>\n",
       "      <td>0.315465</td>\n",
       "      <td>1</td>\n",
       "      <td>0</td>\n",
       "    </tr>\n",
       "    <tr>\n",
       "      <th>3</th>\n",
       "      <td>3</td>\n",
       "      <td>403-9615377-8133951</td>\n",
       "      <td>2022-04-30</td>\n",
       "      <td>Cancelled</td>\n",
       "      <td>Amazon.in</td>\n",
       "      <td>Standard</td>\n",
       "      <td>J0341</td>\n",
       "      <td>J0341-DR-L</td>\n",
       "      <td>western dress</td>\n",
       "      <td>L</td>\n",
       "      <td>B099NRCT7B</td>\n",
       "      <td>Unknown</td>\n",
       "      <td>0</td>\n",
       "      <td>INR</td>\n",
       "      <td>753.33</td>\n",
       "      <td>PUDUCHERRY</td>\n",
       "      <td>PUDUCHERRY</td>\n",
       "      <td>605008.0</td>\n",
       "      <td>IN</td>\n",
       "      <td>NaN</td>\n",
       "      <td>0</td>\n",
       "      <td>Easy Ship</td>\n",
       "      <td>NaN</td>\n",
       "      <td>Saturday</td>\n",
       "      <td>0</td>\n",
       "      <td>6.625830</td>\n",
       "      <td>0.767959</td>\n",
       "      <td>Q2-Q3</td>\n",
       "      <td>0.000000</td>\n",
       "      <td>0.000000</td>\n",
       "      <td>0</td>\n",
       "      <td>1</td>\n",
       "    </tr>\n",
       "    <tr>\n",
       "      <th>4</th>\n",
       "      <td>4</td>\n",
       "      <td>407-1069790-7240320</td>\n",
       "      <td>2022-04-30</td>\n",
       "      <td>Shipped</td>\n",
       "      <td>Amazon.in</td>\n",
       "      <td>Expedited</td>\n",
       "      <td>JNE3671</td>\n",
       "      <td>JNE3671-TU-XXXL</td>\n",
       "      <td>top</td>\n",
       "      <td>3XL</td>\n",
       "      <td>B098714BZP</td>\n",
       "      <td>Shipped</td>\n",
       "      <td>1</td>\n",
       "      <td>INR</td>\n",
       "      <td>574.00</td>\n",
       "      <td>CHENNAI</td>\n",
       "      <td>TAMIL NADU</td>\n",
       "      <td>600073.0</td>\n",
       "      <td>IN</td>\n",
       "      <td>NaN</td>\n",
       "      <td>0</td>\n",
       "      <td>NaN</td>\n",
       "      <td>NaN</td>\n",
       "      <td>Saturday</td>\n",
       "      <td>0</td>\n",
       "      <td>6.354370</td>\n",
       "      <td>0.736496</td>\n",
       "      <td>Q1-Q2</td>\n",
       "      <td>0.693147</td>\n",
       "      <td>0.315465</td>\n",
       "      <td>1</td>\n",
       "      <td>0</td>\n",
       "    </tr>\n",
       "  </tbody>\n",
       "</table>\n",
       "</div>"
      ],
      "text/plain": [
       "   index             Order ID       Date                        Status  \\\n",
       "0      0  405-8078784-5731545 2022-04-30                     Cancelled   \n",
       "1      1  171-9198151-1101146 2022-04-30  Shipped - Delivered to Buyer   \n",
       "2      2  404-0687676-7273146 2022-04-30                       Shipped   \n",
       "3      3  403-9615377-8133951 2022-04-30                     Cancelled   \n",
       "4      4  407-1069790-7240320 2022-04-30                       Shipped   \n",
       "\n",
       "  Sales Channel  ship-service-level    Style              SKU       Category  \\\n",
       "0      Amazon.in           Standard   SET389   SET389-KR-NP-S            set   \n",
       "1      Amazon.in           Standard  JNE3781  JNE3781-KR-XXXL          kurta   \n",
       "2      Amazon.in          Expedited  JNE3371    JNE3371-KR-XL          kurta   \n",
       "3      Amazon.in           Standard    J0341       J0341-DR-L  western dress   \n",
       "4      Amazon.in          Expedited  JNE3671  JNE3671-TU-XXXL            top   \n",
       "\n",
       "  Size        ASIN Courier Status  Qty currency  Amount    ship-city  \\\n",
       "0    S  B09KXVBD7Z        Unknown    0      INR  647.62       MUMBAI   \n",
       "1  3XL  B09K3WFS32        Shipped    1      INR  406.00    BENGALURU   \n",
       "2   XL  B07WV4JV4D        Shipped    1      INR  329.00  NAVI MUMBAI   \n",
       "3    L  B099NRCT7B        Unknown    0      INR  753.33   PUDUCHERRY   \n",
       "4  3XL  B098714BZP        Shipped    1      INR  574.00      CHENNAI   \n",
       "\n",
       "    ship-state  ship-postal-code ship-country  \\\n",
       "0  MAHARASHTRA          400081.0           IN   \n",
       "1    KARNATAKA          560085.0           IN   \n",
       "2  MAHARASHTRA          410210.0           IN   \n",
       "3   PUDUCHERRY          605008.0           IN   \n",
       "4   TAMIL NADU          600073.0           IN   \n",
       "\n",
       "                                       promotion-ids  B2B fulfilled-by  \\\n",
       "0                                                NaN    0    Easy Ship   \n",
       "1  Amazon PLCC Free-Financing Universal Merchant ...    0    Easy Ship   \n",
       "2       IN Core Free Shipping 2015/04/08 23-48-5-108    1          NaN   \n",
       "3                                                NaN    0    Easy Ship   \n",
       "4                                                NaN    0          NaN   \n",
       "\n",
       "  Unnamed: 22   Weekday  Is_weekday  Amount_Log  Amount_Log_Scaled  \\\n",
       "0         NaN  Saturday           0    6.474847           0.750460   \n",
       "1         NaN  Saturday           0    6.008813           0.696445   \n",
       "2         NaN  Saturday           0    5.799093           0.672137   \n",
       "3         NaN  Saturday           0    6.625830           0.767959   \n",
       "4         NaN  Saturday           0    6.354370           0.736496   \n",
       "\n",
       "  Amount_Log_Scaled_Bins   Qty_Log  Qty_Log_Scaled  Fulfilment_Amazon  \\\n",
       "0                  Q2-Q3  0.000000        0.000000                  0   \n",
       "1                 Min-Q1  0.693147        0.315465                  0   \n",
       "2                 Min-Q1  0.693147        0.315465                  1   \n",
       "3                  Q2-Q3  0.000000        0.000000                  0   \n",
       "4                  Q1-Q2  0.693147        0.315465                  1   \n",
       "\n",
       "   Fulfilment_Merchant  \n",
       "0                    1  \n",
       "1                    1  \n",
       "2                    0  \n",
       "3                    1  \n",
       "4                    0  "
      ]
     },
     "execution_count": 46,
     "metadata": {},
     "output_type": "execute_result"
    }
   ],
   "source": [
    "df.head()"
   ]
  },
  {
   "cell_type": "markdown",
   "metadata": {},
   "source": [
    "### Save the dataframe to xlsx to view the finished dataset"
   ]
  },
  {
   "cell_type": "code",
   "execution_count": 48,
   "metadata": {},
   "outputs": [],
   "source": [
    "# save an xlsx file of the cleaned dataset\n",
    "#df.to_excel('AmazonDataSales_cleaned.xlsx', index=False)"
   ]
  }
 ],
 "metadata": {
  "kernelspec": {
   "display_name": "ML_kurs",
   "language": "python",
   "name": "python3"
  },
  "language_info": {
   "codemirror_mode": {
    "name": "ipython",
    "version": 3
   },
   "file_extension": ".py",
   "mimetype": "text/x-python",
   "name": "python",
   "nbconvert_exporter": "python",
   "pygments_lexer": "ipython3",
   "version": "3.10.13"
  }
 },
 "nbformat": 4,
 "nbformat_minor": 2
}
