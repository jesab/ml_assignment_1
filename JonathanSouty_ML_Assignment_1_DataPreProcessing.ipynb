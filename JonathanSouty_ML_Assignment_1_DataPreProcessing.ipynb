{
 "cells": [
  {
   "cell_type": "markdown",
   "metadata": {},
   "source": [
    "# Jonathan Souty - Inlämning 1\n"
   ]
  },
  {
   "cell_type": "markdown",
   "metadata": {},
   "source": [
    "### GitHub: https://github.com/jesab/ml_assignment_1/blob/master/JonathanSouty_ML_Assignment_1_DataPreProcessing.ipynb"
   ]
  },
  {
   "cell_type": "markdown",
   "metadata": {},
   "source": [
    "## 1. Data Exploration"
   ]
  },
  {
   "cell_type": "markdown",
   "metadata": {},
   "source": [
    "Importing the libraries we will be using"
   ]
  },
  {
   "cell_type": "code",
   "execution_count": 3,
   "metadata": {},
   "outputs": [],
   "source": [
    "import pandas as pd\n",
    "import numpy as np\n",
    "import matplotlib.pyplot as plt\n",
    "from sklearn.preprocessing import MinMaxScaler\n",
    "\n",
    "line_break = '\\n' + ('-' * 50) + '\\n'"
   ]
  },
  {
   "cell_type": "markdown",
   "metadata": {},
   "source": [
    "Defining the local file path and loading it into a pandas dataframe"
   ]
  },
  {
   "cell_type": "code",
   "execution_count": 4,
   "metadata": {},
   "outputs": [
    {
     "name": "stderr",
     "output_type": "stream",
     "text": [
      "C:\\Users\\jonat\\AppData\\Local\\Temp\\ipykernel_27584\\4284465007.py:2: DtypeWarning: Columns (23) have mixed types. Specify dtype option on import or set low_memory=False.\n",
      "  df = pd.read_csv(file_path)\n"
     ]
    }
   ],
   "source": [
    "file_path = 'AmazonDataSales.csv'\n",
    "df = pd.read_csv(file_path)"
   ]
  },
  {
   "cell_type": "markdown",
   "metadata": {},
   "source": [
    "First we get an overview of our data, the pandas function to display all columns when running df.head() is nice here because we are just above the limit where it cuts out a few of our columns"
   ]
  },
  {
   "cell_type": "code",
   "execution_count": 5,
   "metadata": {},
   "outputs": [
    {
     "data": {
      "text/html": [
       "<div>\n",
       "<style scoped>\n",
       "    .dataframe tbody tr th:only-of-type {\n",
       "        vertical-align: middle;\n",
       "    }\n",
       "\n",
       "    .dataframe tbody tr th {\n",
       "        vertical-align: top;\n",
       "    }\n",
       "\n",
       "    .dataframe thead th {\n",
       "        text-align: right;\n",
       "    }\n",
       "</style>\n",
       "<table border=\"1\" class=\"dataframe\">\n",
       "  <thead>\n",
       "    <tr style=\"text-align: right;\">\n",
       "      <th></th>\n",
       "      <th>index</th>\n",
       "      <th>Order ID</th>\n",
       "      <th>Date</th>\n",
       "      <th>Status</th>\n",
       "      <th>Fulfilment</th>\n",
       "      <th>Sales Channel</th>\n",
       "      <th>ship-service-level</th>\n",
       "      <th>Style</th>\n",
       "      <th>SKU</th>\n",
       "      <th>Category</th>\n",
       "      <th>Size</th>\n",
       "      <th>ASIN</th>\n",
       "      <th>Courier Status</th>\n",
       "      <th>Qty</th>\n",
       "      <th>currency</th>\n",
       "      <th>Amount</th>\n",
       "      <th>ship-city</th>\n",
       "      <th>ship-state</th>\n",
       "      <th>ship-postal-code</th>\n",
       "      <th>ship-country</th>\n",
       "      <th>promotion-ids</th>\n",
       "      <th>B2B</th>\n",
       "      <th>fulfilled-by</th>\n",
       "      <th>Unnamed: 22</th>\n",
       "    </tr>\n",
       "  </thead>\n",
       "  <tbody>\n",
       "    <tr>\n",
       "      <th>0</th>\n",
       "      <td>0</td>\n",
       "      <td>405-8078784-5731545</td>\n",
       "      <td>04-30-22</td>\n",
       "      <td>Cancelled</td>\n",
       "      <td>Merchant</td>\n",
       "      <td>Amazon.in</td>\n",
       "      <td>Standard</td>\n",
       "      <td>SET389</td>\n",
       "      <td>SET389-KR-NP-S</td>\n",
       "      <td>Set</td>\n",
       "      <td>S</td>\n",
       "      <td>B09KXVBD7Z</td>\n",
       "      <td>NaN</td>\n",
       "      <td>0</td>\n",
       "      <td>INR</td>\n",
       "      <td>647.62</td>\n",
       "      <td>MUMBAI</td>\n",
       "      <td>MAHARASHTRA</td>\n",
       "      <td>400081.0</td>\n",
       "      <td>IN</td>\n",
       "      <td>NaN</td>\n",
       "      <td>False</td>\n",
       "      <td>Easy Ship</td>\n",
       "      <td>NaN</td>\n",
       "    </tr>\n",
       "    <tr>\n",
       "      <th>1</th>\n",
       "      <td>1</td>\n",
       "      <td>171-9198151-1101146</td>\n",
       "      <td>04-30-22</td>\n",
       "      <td>Shipped - Delivered to Buyer</td>\n",
       "      <td>Merchant</td>\n",
       "      <td>Amazon.in</td>\n",
       "      <td>Standard</td>\n",
       "      <td>JNE3781</td>\n",
       "      <td>JNE3781-KR-XXXL</td>\n",
       "      <td>kurta</td>\n",
       "      <td>3XL</td>\n",
       "      <td>B09K3WFS32</td>\n",
       "      <td>Shipped</td>\n",
       "      <td>1</td>\n",
       "      <td>INR</td>\n",
       "      <td>406.00</td>\n",
       "      <td>BENGALURU</td>\n",
       "      <td>KARNATAKA</td>\n",
       "      <td>560085.0</td>\n",
       "      <td>IN</td>\n",
       "      <td>Amazon PLCC Free-Financing Universal Merchant ...</td>\n",
       "      <td>False</td>\n",
       "      <td>Easy Ship</td>\n",
       "      <td>NaN</td>\n",
       "    </tr>\n",
       "    <tr>\n",
       "      <th>2</th>\n",
       "      <td>2</td>\n",
       "      <td>404-0687676-7273146</td>\n",
       "      <td>04-30-22</td>\n",
       "      <td>Shipped</td>\n",
       "      <td>Amazon</td>\n",
       "      <td>Amazon.in</td>\n",
       "      <td>Expedited</td>\n",
       "      <td>JNE3371</td>\n",
       "      <td>JNE3371-KR-XL</td>\n",
       "      <td>kurta</td>\n",
       "      <td>XL</td>\n",
       "      <td>B07WV4JV4D</td>\n",
       "      <td>Shipped</td>\n",
       "      <td>1</td>\n",
       "      <td>INR</td>\n",
       "      <td>329.00</td>\n",
       "      <td>NAVI MUMBAI</td>\n",
       "      <td>MAHARASHTRA</td>\n",
       "      <td>410210.0</td>\n",
       "      <td>IN</td>\n",
       "      <td>IN Core Free Shipping 2015/04/08 23-48-5-108</td>\n",
       "      <td>True</td>\n",
       "      <td>NaN</td>\n",
       "      <td>NaN</td>\n",
       "    </tr>\n",
       "    <tr>\n",
       "      <th>3</th>\n",
       "      <td>3</td>\n",
       "      <td>403-9615377-8133951</td>\n",
       "      <td>04-30-22</td>\n",
       "      <td>Cancelled</td>\n",
       "      <td>Merchant</td>\n",
       "      <td>Amazon.in</td>\n",
       "      <td>Standard</td>\n",
       "      <td>J0341</td>\n",
       "      <td>J0341-DR-L</td>\n",
       "      <td>Western Dress</td>\n",
       "      <td>L</td>\n",
       "      <td>B099NRCT7B</td>\n",
       "      <td>NaN</td>\n",
       "      <td>0</td>\n",
       "      <td>INR</td>\n",
       "      <td>753.33</td>\n",
       "      <td>PUDUCHERRY</td>\n",
       "      <td>PUDUCHERRY</td>\n",
       "      <td>605008.0</td>\n",
       "      <td>IN</td>\n",
       "      <td>NaN</td>\n",
       "      <td>False</td>\n",
       "      <td>Easy Ship</td>\n",
       "      <td>NaN</td>\n",
       "    </tr>\n",
       "    <tr>\n",
       "      <th>4</th>\n",
       "      <td>4</td>\n",
       "      <td>407-1069790-7240320</td>\n",
       "      <td>04-30-22</td>\n",
       "      <td>Shipped</td>\n",
       "      <td>Amazon</td>\n",
       "      <td>Amazon.in</td>\n",
       "      <td>Expedited</td>\n",
       "      <td>JNE3671</td>\n",
       "      <td>JNE3671-TU-XXXL</td>\n",
       "      <td>Top</td>\n",
       "      <td>3XL</td>\n",
       "      <td>B098714BZP</td>\n",
       "      <td>Shipped</td>\n",
       "      <td>1</td>\n",
       "      <td>INR</td>\n",
       "      <td>574.00</td>\n",
       "      <td>CHENNAI</td>\n",
       "      <td>TAMIL NADU</td>\n",
       "      <td>600073.0</td>\n",
       "      <td>IN</td>\n",
       "      <td>NaN</td>\n",
       "      <td>False</td>\n",
       "      <td>NaN</td>\n",
       "      <td>NaN</td>\n",
       "    </tr>\n",
       "  </tbody>\n",
       "</table>\n",
       "</div>"
      ],
      "text/plain": [
       "   index             Order ID      Date                        Status  \\\n",
       "0      0  405-8078784-5731545  04-30-22                     Cancelled   \n",
       "1      1  171-9198151-1101146  04-30-22  Shipped - Delivered to Buyer   \n",
       "2      2  404-0687676-7273146  04-30-22                       Shipped   \n",
       "3      3  403-9615377-8133951  04-30-22                     Cancelled   \n",
       "4      4  407-1069790-7240320  04-30-22                       Shipped   \n",
       "\n",
       "  Fulfilment Sales Channel  ship-service-level    Style              SKU  \\\n",
       "0   Merchant      Amazon.in           Standard   SET389   SET389-KR-NP-S   \n",
       "1   Merchant      Amazon.in           Standard  JNE3781  JNE3781-KR-XXXL   \n",
       "2     Amazon      Amazon.in          Expedited  JNE3371    JNE3371-KR-XL   \n",
       "3   Merchant      Amazon.in           Standard    J0341       J0341-DR-L   \n",
       "4     Amazon      Amazon.in          Expedited  JNE3671  JNE3671-TU-XXXL   \n",
       "\n",
       "        Category Size        ASIN Courier Status  Qty currency  Amount  \\\n",
       "0            Set    S  B09KXVBD7Z            NaN    0      INR  647.62   \n",
       "1          kurta  3XL  B09K3WFS32        Shipped    1      INR  406.00   \n",
       "2          kurta   XL  B07WV4JV4D        Shipped    1      INR  329.00   \n",
       "3  Western Dress    L  B099NRCT7B            NaN    0      INR  753.33   \n",
       "4            Top  3XL  B098714BZP        Shipped    1      INR  574.00   \n",
       "\n",
       "     ship-city   ship-state  ship-postal-code ship-country  \\\n",
       "0       MUMBAI  MAHARASHTRA          400081.0           IN   \n",
       "1    BENGALURU    KARNATAKA          560085.0           IN   \n",
       "2  NAVI MUMBAI  MAHARASHTRA          410210.0           IN   \n",
       "3   PUDUCHERRY   PUDUCHERRY          605008.0           IN   \n",
       "4      CHENNAI   TAMIL NADU          600073.0           IN   \n",
       "\n",
       "                                       promotion-ids    B2B fulfilled-by  \\\n",
       "0                                                NaN  False    Easy Ship   \n",
       "1  Amazon PLCC Free-Financing Universal Merchant ...  False    Easy Ship   \n",
       "2       IN Core Free Shipping 2015/04/08 23-48-5-108   True          NaN   \n",
       "3                                                NaN  False    Easy Ship   \n",
       "4                                                NaN  False          NaN   \n",
       "\n",
       "  Unnamed: 22  \n",
       "0         NaN  \n",
       "1         NaN  \n",
       "2         NaN  \n",
       "3         NaN  \n",
       "4         NaN  "
      ]
     },
     "execution_count": 5,
     "metadata": {},
     "output_type": "execute_result"
    }
   ],
   "source": [
    "# setting option to display all the columns\n",
    "pd.set_option('display.max_columns', None)\n",
    "# using df.head() instead of print(df.head()) gives a better view of the data\n",
    "df.head()"
   ]
  },
  {
   "cell_type": "markdown",
   "metadata": {},
   "source": [
    "Here we learn more about each column in the dataset to get a better understanding of our cleaning and transformation needs"
   ]
  },
  {
   "cell_type": "code",
   "execution_count": 6,
   "metadata": {},
   "outputs": [
    {
     "name": "stdout",
     "output_type": "stream",
     "text": [
      "                index             Order ID      Date   Status Fulfilment  \\\n",
      "count   128975.000000               128975    128975   128975     128975   \n",
      "unique            NaN               120378        91       13          2   \n",
      "top               NaN  171-5057375-2831560  05-03-22  Shipped     Amazon   \n",
      "freq              NaN                   12      2085    77804      89698   \n",
      "mean     64487.000000                  NaN       NaN      NaN        NaN   \n",
      "std      37232.019822                  NaN       NaN      NaN        NaN   \n",
      "min          0.000000                  NaN       NaN      NaN        NaN   \n",
      "25%      32243.500000                  NaN       NaN      NaN        NaN   \n",
      "50%      64487.000000                  NaN       NaN      NaN        NaN   \n",
      "75%      96730.500000                  NaN       NaN      NaN        NaN   \n",
      "max     128974.000000                  NaN       NaN      NaN        NaN   \n",
      "\n",
      "       Sales Channel  ship-service-level    Style           SKU Category  \\\n",
      "count          128975             128975   128975        128975   128975   \n",
      "unique              2                  2     1377          7195        9   \n",
      "top         Amazon.in          Expedited  JNE3797  JNE3797-KR-L      Set   \n",
      "freq           128851              88615     4224           773    50284   \n",
      "mean              NaN                NaN      NaN           NaN      NaN   \n",
      "std               NaN                NaN      NaN           NaN      NaN   \n",
      "min               NaN                NaN      NaN           NaN      NaN   \n",
      "25%               NaN                NaN      NaN           NaN      NaN   \n",
      "50%               NaN                NaN      NaN           NaN      NaN   \n",
      "75%               NaN                NaN      NaN           NaN      NaN   \n",
      "max               NaN                NaN      NaN           NaN      NaN   \n",
      "\n",
      "          Size        ASIN Courier Status            Qty currency  \\\n",
      "count   128975      128975         122103  128975.000000   121180   \n",
      "unique      11        7190              3            NaN        1   \n",
      "top          M  B09SDXFFQ1        Shipped            NaN      INR   \n",
      "freq     22711         773         109487            NaN   121180   \n",
      "mean       NaN         NaN            NaN       0.904431      NaN   \n",
      "std        NaN         NaN            NaN       0.313354      NaN   \n",
      "min        NaN         NaN            NaN       0.000000      NaN   \n",
      "25%        NaN         NaN            NaN       1.000000      NaN   \n",
      "50%        NaN         NaN            NaN       1.000000      NaN   \n",
      "75%        NaN         NaN            NaN       1.000000      NaN   \n",
      "max        NaN         NaN            NaN      15.000000      NaN   \n",
      "\n",
      "               Amount  ship-city   ship-state  ship-postal-code ship-country  \\\n",
      "count   121180.000000     128942       128942     128942.000000       128942   \n",
      "unique            NaN       8955           69               NaN            1   \n",
      "top               NaN  BENGALURU  MAHARASHTRA               NaN           IN   \n",
      "freq              NaN      11217        22260               NaN       128942   \n",
      "mean       648.561465        NaN          NaN     463966.236509          NaN   \n",
      "std        281.211687        NaN          NaN     191476.764941          NaN   \n",
      "min          0.000000        NaN          NaN     110001.000000          NaN   \n",
      "25%        449.000000        NaN          NaN     382421.000000          NaN   \n",
      "50%        605.000000        NaN          NaN     500033.000000          NaN   \n",
      "75%        788.000000        NaN          NaN     600024.000000          NaN   \n",
      "max       5584.000000        NaN          NaN     989898.000000          NaN   \n",
      "\n",
      "                                       promotion-ids     B2B fulfilled-by  \\\n",
      "count                                          79822  128975        39277   \n",
      "unique                                          5787       2            1   \n",
      "top     IN Core Free Shipping 2015/04/08 23-48-5-108   False    Easy Ship   \n",
      "freq                                           46100  128104        39277   \n",
      "mean                                             NaN     NaN          NaN   \n",
      "std                                              NaN     NaN          NaN   \n",
      "min                                              NaN     NaN          NaN   \n",
      "25%                                              NaN     NaN          NaN   \n",
      "50%                                              NaN     NaN          NaN   \n",
      "75%                                              NaN     NaN          NaN   \n",
      "max                                              NaN     NaN          NaN   \n",
      "\n",
      "       Unnamed: 22  \n",
      "count        79925  \n",
      "unique           1  \n",
      "top          False  \n",
      "freq         79925  \n",
      "mean           NaN  \n",
      "std            NaN  \n",
      "min            NaN  \n",
      "25%            NaN  \n",
      "50%            NaN  \n",
      "75%            NaN  \n",
      "max            NaN  \n"
     ]
    }
   ],
   "source": [
    "# describe the dataframe\n",
    "print(df.describe(include='all'))\n",
    "\n",
    "# total rows = 128 975\n",
    "# there are a few duplicates of Order ID, seems like its the same order but with different products"
   ]
  },
  {
   "cell_type": "markdown",
   "metadata": {},
   "source": [
    "Checking for any odd or unwanted datatypes. For example, here we learn that the 'B2B' column is of the boolean datatype, which we would rather have as integers (0, 1)"
   ]
  },
  {
   "cell_type": "code",
   "execution_count": 7,
   "metadata": {},
   "outputs": [
    {
     "data": {
      "text/plain": [
       "index                   int64\n",
       "Order ID               object\n",
       "Date                   object\n",
       "Status                 object\n",
       "Fulfilment             object\n",
       "Sales Channel          object\n",
       "ship-service-level     object\n",
       "Style                  object\n",
       "SKU                    object\n",
       "Category               object\n",
       "Size                   object\n",
       "ASIN                   object\n",
       "Courier Status         object\n",
       "Qty                     int64\n",
       "currency               object\n",
       "Amount                float64\n",
       "ship-city              object\n",
       "ship-state             object\n",
       "ship-postal-code      float64\n",
       "ship-country           object\n",
       "promotion-ids          object\n",
       "B2B                      bool\n",
       "fulfilled-by           object\n",
       "Unnamed: 22            object\n",
       "dtype: object"
      ]
     },
     "execution_count": 7,
     "metadata": {},
     "output_type": "execute_result"
    }
   ],
   "source": [
    "# print datatypes\n",
    "df.dtypes"
   ]
  },
  {
   "cell_type": "markdown",
   "metadata": {},
   "source": [
    "Checking the columns for missing values to help us make decisions on how to handle the inconsistencies. We either fill the missing data using some form of logic or we drop certain columns and rows"
   ]
  },
  {
   "cell_type": "code",
   "execution_count": 8,
   "metadata": {},
   "outputs": [
    {
     "name": "stdout",
     "output_type": "stream",
     "text": [
      "Count of missing values per column:\n",
      "index                     0\n",
      "Order ID                  0\n",
      "Date                      0\n",
      "Status                    0\n",
      "Fulfilment                0\n",
      "Sales Channel             0\n",
      "ship-service-level        0\n",
      "Style                     0\n",
      "SKU                       0\n",
      "Category                  0\n",
      "Size                      0\n",
      "ASIN                      0\n",
      "Courier Status         6872\n",
      "Qty                       0\n",
      "currency               7795\n",
      "Amount                 7795\n",
      "ship-city                33\n",
      "ship-state               33\n",
      "ship-postal-code         33\n",
      "ship-country             33\n",
      "promotion-ids         49153\n",
      "B2B                       0\n",
      "fulfilled-by          89698\n",
      "Unnamed: 22           49050\n",
      "dtype: int64\n"
     ]
    }
   ],
   "source": [
    "# check for missing values\n",
    "print(\"Count of missing values per column:\")\n",
    "print(df.isnull().sum())"
   ]
  },
  {
   "cell_type": "markdown",
   "metadata": {},
   "source": [
    "We also check for duplicates, I did notice that we have a few hidden duplicates."
   ]
  },
  {
   "cell_type": "code",
   "execution_count": 9,
   "metadata": {},
   "outputs": [
    {
     "name": "stdout",
     "output_type": "stream",
     "text": [
      "Count of duplicates per column:\n",
      "0\n"
     ]
    }
   ],
   "source": [
    "# check for duplicates in all columns\n",
    "print(\"Count of duplicates per column:\")\n",
    "print(df.duplicated().sum())"
   ]
  },
  {
   "cell_type": "markdown",
   "metadata": {},
   "source": [
    "## 2. Data Cleaning"
   ]
  },
  {
   "cell_type": "markdown",
   "metadata": {},
   "source": [
    "#### I used my own reasoning and with some help of the provided DataProcessMLSemi.py to figure out the cleaning needs"
   ]
  },
  {
   "cell_type": "markdown",
   "metadata": {},
   "source": [
    "We have 6872 missing values in the Courier Status column out of the ~128k total"
   ]
  },
  {
   "cell_type": "code",
   "execution_count": 10,
   "metadata": {},
   "outputs": [
    {
     "name": "stdout",
     "output_type": "stream",
     "text": [
      "Courier Status\n",
      "Shipped      109487\n",
      "NaN            6872\n",
      "Unshipped      6681\n",
      "Cancelled      5935\n",
      "Name: count, dtype: int64\n"
     ]
    }
   ],
   "source": [
    "# check Courier Status column aswell as how many null values there are\n",
    "print(df['Courier Status'].value_counts(dropna=False))"
   ]
  },
  {
   "cell_type": "markdown",
   "metadata": {},
   "source": [
    "I decided to replace the NaN values with 'Unknown'"
   ]
  },
  {
   "cell_type": "code",
   "execution_count": 11,
   "metadata": {},
   "outputs": [
    {
     "name": "stdout",
     "output_type": "stream",
     "text": [
      "Courier Status\n",
      "Shipped      109487\n",
      "Unknown        6872\n",
      "Unshipped      6681\n",
      "Cancelled      5935\n",
      "Name: count, dtype: int64\n"
     ]
    }
   ],
   "source": [
    "# replace NaN values with 'Unknown'\n",
    "df['Courier Status'].fillna('Unknown', inplace=True)\n",
    "print(df['Courier Status'].value_counts(dropna=False))"
   ]
  },
  {
   "cell_type": "markdown",
   "metadata": {},
   "source": [
    "Getting a better idea of how to handle the 'currency' column"
   ]
  },
  {
   "cell_type": "code",
   "execution_count": 12,
   "metadata": {},
   "outputs": [
    {
     "name": "stdout",
     "output_type": "stream",
     "text": [
      "currency\n",
      "INR    121180\n",
      "NaN      7795\n",
      "Name: count, dtype: int64\n",
      "\n",
      "--------------------------------------------------\n",
      "\n",
      "         index             Order ID      Date     Status Fulfilment  \\\n",
      "8            8  407-5443024-5233168  04-30-22  Cancelled     Amazon   \n",
      "29          29  404-5933402-8801952  04-30-22  Cancelled   Merchant   \n",
      "65          65  171-4137548-0481151  04-30-22  Cancelled     Amazon   \n",
      "84          84  403-9950518-0349133  04-30-22  Cancelled     Amazon   \n",
      "95          95  405-9112089-3379536  04-30-22  Cancelled     Amazon   \n",
      "...        ...                  ...       ...        ...        ...   \n",
      "128903  128903  406-3923120-4345139  05-31-22  Cancelled     Amazon   \n",
      "128907  128907  403-6757403-6097100  05-31-22  Cancelled     Amazon   \n",
      "128908  128908  403-6757403-6097100  05-31-22  Cancelled     Amazon   \n",
      "128958  128958  408-9513596-4393945  05-31-22  Cancelled     Amazon   \n",
      "128967  128967  404-5182288-1653947  05-31-22  Cancelled     Amazon   \n",
      "\n",
      "       Sales Channel  ship-service-level    Style                  SKU  \\\n",
      "8           Amazon.in          Expedited   SET200  SET200-KR-NP-A-XXXL   \n",
      "29          Amazon.in           Standard  JNE2132  JNE2132-KR-398-XXXL   \n",
      "65          Amazon.in          Expedited  JNE3373       JNE3373-KR-XXL   \n",
      "84          Amazon.in          Expedited  JNE3510         JNE3510-KR-M   \n",
      "95          Amazon.in          Expedited  JNE3405         JNE3405-KR-L   \n",
      "...               ...                ...      ...                  ...   \n",
      "128903      Amazon.in          Expedited  JNE3801         JNE3801-KR-M   \n",
      "128907      Amazon.in          Expedited    NW014     NW014-ST-SR-XXXL   \n",
      "128908      Amazon.in          Expedited    NW007     NW007-ST-CP-XXXL   \n",
      "128958      Amazon.in          Expedited   SET058       SET058-KR-NP-L   \n",
      "128967      Amazon.in          Expedited  JNE3638        JNE3638-KR-XS   \n",
      "\n",
      "       Category Size        ASIN Courier Status  Qty currency  Amount  \\\n",
      "8           Set  3XL  B08L91ZZXN      Cancelled    0      NaN     NaN   \n",
      "29        kurta  3XL  B07JG3CND8        Unknown    0      NaN     NaN   \n",
      "65        kurta  XXL  B082W8RWN1      Cancelled    0      NaN     NaN   \n",
      "84        kurta    M  B08WPR5MCB      Cancelled    0      NaN     NaN   \n",
      "95        kurta    L  B081WSCKPQ      Cancelled    0      NaN     NaN   \n",
      "...         ...  ...         ...            ...  ...      ...     ...   \n",
      "128903    kurta    M  B09SDZ4FH9      Cancelled    0      NaN     NaN   \n",
      "128907      Set  3XL  B0928ZT74Y      Cancelled    0      NaN     NaN   \n",
      "128908      Set  3XL  B0928YCMQP      Cancelled    0      NaN     NaN   \n",
      "128958      Set    L  B07R487XRD      Cancelled    0      NaN     NaN   \n",
      "128967    kurta   XS  B09814Q3QH      Cancelled    0      NaN     NaN   \n",
      "\n",
      "            ship-city      ship-state  ship-postal-code ship-country  \\\n",
      "8           HYDERABAD       TELANGANA          500008.0           IN   \n",
      "29           GUWAHATI           ASSAM          781003.0           IN   \n",
      "65              Dahod         Gujarat          389151.0           IN   \n",
      "84          HYDERABAD       TELANGANA          500072.0           IN   \n",
      "95               PUNE     MAHARASHTRA          411046.0           IN   \n",
      "...               ...             ...               ...          ...   \n",
      "128903      ANANTAPUR  ANDHRA PRADESH          515001.0           IN   \n",
      "128907  GREATER NOIDA   UTTAR PRADESH          201306.0           IN   \n",
      "128908  GREATER NOIDA   UTTAR PRADESH          201306.0           IN   \n",
      "128958      Bengaluru       KARNATAKA          560037.0           IN   \n",
      "128967        Kolkata     WEST BENGAL          700040.0           IN   \n",
      "\n",
      "                                       promotion-ids    B2B fulfilled-by  \\\n",
      "8       IN Core Free Shipping 2015/04/08 23-48-5-108  False          NaN   \n",
      "29                                               NaN  False    Easy Ship   \n",
      "65                                               NaN  False          NaN   \n",
      "84                                               NaN  False          NaN   \n",
      "95                                               NaN  False          NaN   \n",
      "...                                              ...    ...          ...   \n",
      "128903                                           NaN  False          NaN   \n",
      "128907                                           NaN  False          NaN   \n",
      "128908                                           NaN  False          NaN   \n",
      "128958                                           NaN  False          NaN   \n",
      "128967                                           NaN  False          NaN   \n",
      "\n",
      "       Unnamed: 22  \n",
      "8              NaN  \n",
      "29             NaN  \n",
      "65             NaN  \n",
      "84             NaN  \n",
      "95             NaN  \n",
      "...            ...  \n",
      "128903       False  \n",
      "128907       False  \n",
      "128908       False  \n",
      "128958       False  \n",
      "128967       False  \n",
      "\n",
      "[7795 rows x 24 columns]\n",
      "\n",
      "--------------------------------------------------\n",
      "\n",
      "Rows with null currency but not null Amount:\n",
      "Empty DataFrame\n",
      "Columns: [index, Order ID, Date, Status, Fulfilment, Sales Channel , ship-service-level, Style, SKU, Category, Size, ASIN, Courier Status, Qty, currency, Amount, ship-city, ship-state, ship-postal-code, ship-country, promotion-ids, B2B, fulfilled-by, Unnamed: 22]\n",
      "Index: []\n"
     ]
    }
   ],
   "source": [
    "# check the currency column\n",
    "print(df['currency'].value_counts(dropna=False))\n",
    "\n",
    "print(line_break)\n",
    "\n",
    "# print the rows where currency is null\n",
    "print(df[df['currency'].isnull()])\n",
    "\n",
    "print(line_break)\n",
    "\n",
    "# check how many rows there are where currency is null but the Amount column isnt null\n",
    "print('Rows with null currency but not null Amount:')\n",
    "print(df[(df['currency'].isnull()) & (df['Amount'].notnull())])"
   ]
  },
  {
   "cell_type": "markdown",
   "metadata": {},
   "source": [
    "Since all of the missing currency inputs also has ship-country = India, I decided to fill the missing currencies with INR"
   ]
  },
  {
   "cell_type": "code",
   "execution_count": 13,
   "metadata": {},
   "outputs": [
    {
     "name": "stdout",
     "output_type": "stream",
     "text": [
      "currency\n",
      "INR    128975\n",
      "Name: count, dtype: int64\n"
     ]
    }
   ],
   "source": [
    "# we only have INR currency so its safe to assume that the null values are INR\n",
    "df['currency'].fillna('INR', inplace=True)\n",
    "print(df['currency'].value_counts(dropna=False))"
   ]
  },
  {
   "cell_type": "markdown",
   "metadata": {},
   "source": [
    "In the data exploration phase phase I noticed that we have some NaN values in the 'ship-*' columns so here we dive deeper into those columns"
   ]
  },
  {
   "cell_type": "code",
   "execution_count": 14,
   "metadata": {},
   "outputs": [
    {
     "name": "stdout",
     "output_type": "stream",
     "text": [
      "33\n",
      "33\n",
      "33\n",
      "33\n",
      "\n",
      "--------------------------------------------------\n",
      "\n",
      "         index             Order ID      Date                        Status  \\\n",
      "1871      1871  404-0566904-4825137  04-29-22                       Shipped   \n",
      "1872      1872  404-0566904-4825137  04-29-22                       Shipped   \n",
      "8752      8752  406-4003386-8768363  04-25-22                       Shipped   \n",
      "11215    11215  402-0107720-7057168  04-23-22                       Shipped   \n",
      "13252    13252  407-4532637-8415521  04-22-22                     Cancelled   \n",
      "15688    15688  404-9229894-8608305  04-21-22                       Shipped   \n",
      "16787    16787  402-4919636-4333150  04-20-22  Shipped - Delivered to Buyer   \n",
      "18351    18351  405-4927647-8064368  04-19-22                       Shipped   \n",
      "22930    22930  402-8628677-0457954  04-16-22  Shipped - Returned to Seller   \n",
      "24986    24986  406-4079063-8291520  04-15-22                     Cancelled   \n",
      "30379    30379  404-7506843-7913132  04-12-22  Shipped - Delivered to Buyer   \n",
      "37963    37963  407-3064376-9158743  04-08-22                     Cancelled   \n",
      "37964    37964  407-3064376-9158743  04-08-22                     Cancelled   \n",
      "60986    60986  171-3257610-9237139  05-22-22  Shipped - Delivered to Buyer   \n",
      "63040    63040  402-1049475-3611523  05-20-22                       Shipped   \n",
      "73675    73675  405-1356730-8598722  05-11-22  Shipped - Delivered to Buyer   \n",
      "73746    73746  407-4664354-2179554  05-11-22                       Shipped   \n",
      "73771    73771  406-7680604-5439529  05-11-22                       Shipped   \n",
      "73772    73772  406-7680604-5439529  05-11-22                       Shipped   \n",
      "73911    73911  405-3420451-5230744  05-11-22                     Cancelled   \n",
      "80011    80011  171-4552355-0255565  05-07-22  Shipped - Returned to Seller   \n",
      "80092    80092  403-2857451-7335536  05-07-22                       Shipped   \n",
      "80455    80455  171-4691098-8489159  05-06-22  Shipped - Delivered to Buyer   \n",
      "84008    84008  405-8605864-8021901  05-04-22  Shipped - Returned to Seller   \n",
      "84757    84757  402-8651786-0683548  05-04-22                       Shipped   \n",
      "104201  104201  403-3190636-2013146  06-18-22  Shipped - Delivered to Buyer   \n",
      "106498  106498  402-8673941-7883531  06-16-22                     Cancelled   \n",
      "124215  124215  405-0340492-2359532  06-04-22                     Cancelled   \n",
      "124357  124357  405-5884153-9925116  06-04-22                       Shipped   \n",
      "124358  124358  405-5884153-9925116  06-04-22                       Shipped   \n",
      "124359  124359  405-5884153-9925116  06-04-22                       Shipped   \n",
      "125385  125385  403-5172380-9787567  06-03-22                       Shipped   \n",
      "126620  126620  403-4249038-6582716  06-02-22  Shipped - Delivered to Buyer   \n",
      "\n",
      "       Fulfilment Sales Channel  ship-service-level     Style  \\\n",
      "1871       Amazon      Amazon.in          Expedited     J0301   \n",
      "1872       Amazon      Amazon.in          Expedited   JNE3697   \n",
      "8752       Amazon      Amazon.in          Expedited   JNE3376   \n",
      "11215      Amazon      Amazon.in          Expedited     J0003   \n",
      "13252    Merchant      Amazon.in           Standard   JNE3405   \n",
      "15688      Amazon      Amazon.in          Expedited   JNE3510   \n",
      "16787    Merchant      Amazon.in           Standard   JNE1233   \n",
      "18351      Amazon      Amazon.in          Expedited     J0230   \n",
      "22930    Merchant      Amazon.in           Standard     J0003   \n",
      "24986      Amazon      Amazon.in          Expedited   JNE3567   \n",
      "30379    Merchant      Amazon.in           Standard    SET350   \n",
      "37963    Merchant      Amazon.in           Standard   JNE3567   \n",
      "37964    Merchant      Amazon.in           Standard   JNE3405   \n",
      "60986    Merchant      Amazon.in           Standard   JNE3365   \n",
      "63040      Amazon      Amazon.in          Expedited   JNE3739   \n",
      "73675    Merchant      Amazon.in           Standard    SET187   \n",
      "73746      Amazon      Amazon.in          Expedited    SET374   \n",
      "73771      Amazon      Amazon.in          Expedited  PJNE3607   \n",
      "73772      Amazon      Amazon.in          Expedited  PJNE3368   \n",
      "73911      Amazon      Amazon.in          Expedited    SET374   \n",
      "80011    Merchant      Amazon.in           Standard    SET324   \n",
      "80092      Amazon      Amazon.in          Expedited   JNE3510   \n",
      "80455    Merchant      Amazon.in           Standard    SET183   \n",
      "84008    Merchant      Amazon.in           Standard   JNE1951   \n",
      "84757      Amazon      Amazon.in          Expedited   JNE3690   \n",
      "104201   Merchant      Amazon.in           Standard     J0351   \n",
      "106498     Amazon      Amazon.in          Expedited   JNE3734   \n",
      "124215     Amazon      Amazon.in          Expedited   JNE3465   \n",
      "124357     Amazon      Amazon.in          Expedited   JNE3697   \n",
      "124358     Amazon      Amazon.in          Expedited    SET337   \n",
      "124359     Amazon      Amazon.in          Expedited    SET154   \n",
      "125385     Amazon      Amazon.in          Expedited   JNE3366   \n",
      "126620   Merchant      Amazon.in           Standard   JNE3797   \n",
      "\n",
      "                             SKU       Category Size        ASIN  \\\n",
      "1871                  J0301-TP-L            Top    L  B099S6795L   \n",
      "1872                JNE3697-KR-L          kurta    L  B09811Y7WM   \n",
      "8752                JNE3376-KR-M          kurta    M  B082W7HW86   \n",
      "11215                J0003-SET-S            Set    S  B0894X27FC   \n",
      "13252               JNE3405-KR-S          kurta    S  B081WX4G4Q   \n",
      "15688               JNE3510-KR-M          kurta    M  B08WPR5MCB   \n",
      "16787   JNE1233-BLUE-KR-031-XXXL          kurta  3XL  B07GPGP46N   \n",
      "18351               J0230-SKD-XS            Set   XS  B08XNHXSFZ   \n",
      "22930                J0003-SET-S            Set    S  B0894X27FC   \n",
      "24986             JNE3567-KR-XXL          kurta  XXL  B08KRYCC8J   \n",
      "30379             SET350-KR-NP-L            Set    L  B09RKDXRZK   \n",
      "37963               JNE3567-KR-M          kurta    M  B08KRXV1QR   \n",
      "37964               JNE3405-KR-S          kurta    S  B081WX4G4Q   \n",
      "60986        JNE3365-KR-1052-A-L          kurta    L  B07WP5GQKV   \n",
      "63040             JNE3739-KR-XXL          kurta  XXL  B099NK7Y5P   \n",
      "73675            SET187-KR-DH-XL            Set   XL  B08B415N6S   \n",
      "73746             SET374-KR-NP-M            Set    M  B09NDKJKPN   \n",
      "73771            PJNE3607-KR-4XL          kurta  4XL  B09PY7YGTC   \n",
      "73772            PJNE3368-KR-4XL          kurta  4XL  B09PY691XK   \n",
      "73911             SET374-KR-NP-M            Set    M  B09NDKJKPN   \n",
      "80011            SET324-KR-NP-XL            Set   XL  B09NQ4QS13   \n",
      "80092               JNE3510-KR-S          kurta    S  B08WPTJBBD   \n",
      "80455             SET183-KR-DH-M            Set    M  B08B3Z2YY3   \n",
      "84008         JNE1951-KR-155-XXL          kurta  XXL  B07141LX6Q   \n",
      "84757              JNE3690-TU-XL            Top   XL  B094FKN153   \n",
      "104201               J0351-SET-S            Set    S  B09CT88XNF   \n",
      "106498             JNE3734-KR-XL          kurta   XL  B09RKDBVR6   \n",
      "124215              JNE3465-KR-L          kurta    L  B08BFLKNGJ   \n",
      "124357              JNE3697-KR-L          kurta    L  B09811Y7WM   \n",
      "124358            SET337-KR-NP-L            Set    L  B09KXY99M3   \n",
      "124359            SET154-KR-NP-L            Set    L  B082PXXBXM   \n",
      "125385         JNE3366-KR-1053-L          kurta    L  B07T65WM8Q   \n",
      "126620              JNE3797-KR-M  Western Dress    M  B09SDY8DCT   \n",
      "\n",
      "       Courier Status  Qty currency  Amount ship-city ship-state  \\\n",
      "1871          Shipped    1      INR   493.0       NaN        NaN   \n",
      "1872          Shipped    1      INR   458.0       NaN        NaN   \n",
      "8752          Shipped    1      INR   432.0       NaN        NaN   \n",
      "11215         Shipped    1      INR   654.0       NaN        NaN   \n",
      "13252         Unknown    0      INR   380.0       NaN        NaN   \n",
      "15688         Shipped    1      INR   442.0       NaN        NaN   \n",
      "16787         Shipped    1      INR   376.0       NaN        NaN   \n",
      "18351         Shipped    1      INR  1112.0       NaN        NaN   \n",
      "22930         Shipped    1      INR   654.0       NaN        NaN   \n",
      "24986       Unshipped    1      INR   399.0       NaN        NaN   \n",
      "30379         Shipped    1      INR  1299.0       NaN        NaN   \n",
      "37963         Unknown    0      INR   380.0       NaN        NaN   \n",
      "37964         Unknown    0      INR   380.0       NaN        NaN   \n",
      "60986         Shipped    1      INR   376.0       NaN        NaN   \n",
      "63040         Shipped    1      INR   459.0       NaN        NaN   \n",
      "73675         Shipped    1      INR   699.0       NaN        NaN   \n",
      "73746         Shipped    1      INR   666.0       NaN        NaN   \n",
      "73771         Shipped    1      INR   869.0       NaN        NaN   \n",
      "73772         Shipped    1      INR   869.0       NaN        NaN   \n",
      "73911       Cancelled    0      INR     NaN       NaN        NaN   \n",
      "80011         Shipped    1      INR   607.0       NaN        NaN   \n",
      "80092         Shipped    1      INR   467.0       NaN        NaN   \n",
      "80455         Shipped    1      INR   759.0       NaN        NaN   \n",
      "84008         Shipped    1      INR   368.0       NaN        NaN   \n",
      "84757         Shipped    1      INR   487.0       NaN        NaN   \n",
      "104201        Shipped    1      INR   792.0       NaN        NaN   \n",
      "106498      Cancelled    0      INR     NaN       NaN        NaN   \n",
      "124215      Unshipped    1      INR   491.0       NaN        NaN   \n",
      "124357        Shipped    1      INR   486.0       NaN        NaN   \n",
      "124358        Shipped    1      INR   874.0       NaN        NaN   \n",
      "124359        Shipped    1      INR   832.0       NaN        NaN   \n",
      "125385        Shipped    1      INR   376.0       NaN        NaN   \n",
      "126620        Shipped    1      INR   735.0       NaN        NaN   \n",
      "\n",
      "        ship-postal-code ship-country  \\\n",
      "1871                 NaN          NaN   \n",
      "1872                 NaN          NaN   \n",
      "8752                 NaN          NaN   \n",
      "11215                NaN          NaN   \n",
      "13252                NaN          NaN   \n",
      "15688                NaN          NaN   \n",
      "16787                NaN          NaN   \n",
      "18351                NaN          NaN   \n",
      "22930                NaN          NaN   \n",
      "24986                NaN          NaN   \n",
      "30379                NaN          NaN   \n",
      "37963                NaN          NaN   \n",
      "37964                NaN          NaN   \n",
      "60986                NaN          NaN   \n",
      "63040                NaN          NaN   \n",
      "73675                NaN          NaN   \n",
      "73746                NaN          NaN   \n",
      "73771                NaN          NaN   \n",
      "73772                NaN          NaN   \n",
      "73911                NaN          NaN   \n",
      "80011                NaN          NaN   \n",
      "80092                NaN          NaN   \n",
      "80455                NaN          NaN   \n",
      "84008                NaN          NaN   \n",
      "84757                NaN          NaN   \n",
      "104201               NaN          NaN   \n",
      "106498               NaN          NaN   \n",
      "124215               NaN          NaN   \n",
      "124357               NaN          NaN   \n",
      "124358               NaN          NaN   \n",
      "124359               NaN          NaN   \n",
      "125385               NaN          NaN   \n",
      "126620               NaN          NaN   \n",
      "\n",
      "                                            promotion-ids    B2B fulfilled-by  \\\n",
      "1871         IN Core Free Shipping 2015/04/08 23-48-5-108  False          NaN   \n",
      "1872         IN Core Free Shipping 2015/04/08 23-48-5-108  False          NaN   \n",
      "8752                                                  NaN  False          NaN   \n",
      "11215        IN Core Free Shipping 2015/04/08 23-48-5-108  False          NaN   \n",
      "13252                                                 NaN  False    Easy Ship   \n",
      "15688        IN Core Free Shipping 2015/04/08 23-48-5-108  False          NaN   \n",
      "16787   Amazon PLCC Free-Financing Universal Merchant ...  False    Easy Ship   \n",
      "18351        IN Core Free Shipping 2015/04/08 23-48-5-108  False          NaN   \n",
      "22930   Amazon PLCC Free-Financing Universal Merchant ...  False    Easy Ship   \n",
      "24986                                                 NaN  False          NaN   \n",
      "30379   Amazon PLCC Free-Financing Universal Merchant ...  False    Easy Ship   \n",
      "37963                                                 NaN  False    Easy Ship   \n",
      "37964                                                 NaN  False    Easy Ship   \n",
      "60986   Amazon PLCC Free-Financing Universal Merchant ...  False    Easy Ship   \n",
      "63040        IN Core Free Shipping 2015/04/08 23-48-5-108  False          NaN   \n",
      "73675   Amazon PLCC Free-Financing Universal Merchant ...  False    Easy Ship   \n",
      "73746        IN Core Free Shipping 2015/04/08 23-48-5-108  False          NaN   \n",
      "73771        IN Core Free Shipping 2015/04/08 23-48-5-108  False          NaN   \n",
      "73772        IN Core Free Shipping 2015/04/08 23-48-5-108  False          NaN   \n",
      "73911                                                 NaN  False          NaN   \n",
      "80011   Amazon PLCC Free-Financing Universal Merchant ...  False    Easy Ship   \n",
      "80092        IN Core Free Shipping 2015/04/08 23-48-5-108  False          NaN   \n",
      "80455   Amazon PLCC Free-Financing Universal Merchant ...  False    Easy Ship   \n",
      "84008   Amazon PLCC Free-Financing Universal Merchant ...  False    Easy Ship   \n",
      "84757                                                 NaN  False          NaN   \n",
      "104201  Amazon PLCC Free-Financing Universal Merchant ...  False    Easy Ship   \n",
      "106498       IN Core Free Shipping 2015/04/08 23-48-5-108  False          NaN   \n",
      "124215                                                NaN  False          NaN   \n",
      "124357       IN Core Free Shipping 2015/04/08 23-48-5-108  False          NaN   \n",
      "124358       IN Core Free Shipping 2015/04/08 23-48-5-108  False          NaN   \n",
      "124359       IN Core Free Shipping 2015/04/08 23-48-5-108  False          NaN   \n",
      "125385       IN Core Free Shipping 2015/04/08 23-48-5-108  False          NaN   \n",
      "126620  Amazon PLCC Free-Financing Universal Merchant ...  False    Easy Ship   \n",
      "\n",
      "       Unnamed: 22  \n",
      "1871           NaN  \n",
      "1872           NaN  \n",
      "8752           NaN  \n",
      "11215          NaN  \n",
      "13252          NaN  \n",
      "15688          NaN  \n",
      "16787          NaN  \n",
      "18351          NaN  \n",
      "22930          NaN  \n",
      "24986          NaN  \n",
      "30379          NaN  \n",
      "37963          NaN  \n",
      "37964          NaN  \n",
      "60986        False  \n",
      "63040        False  \n",
      "73675        False  \n",
      "73746        False  \n",
      "73771        False  \n",
      "73772        False  \n",
      "73911        False  \n",
      "80011        False  \n",
      "80092        False  \n",
      "80455        False  \n",
      "84008        False  \n",
      "84757        False  \n",
      "104201       False  \n",
      "106498       False  \n",
      "124215       False  \n",
      "124357       False  \n",
      "124358       False  \n",
      "124359       False  \n",
      "125385       False  \n",
      "126620       False  \n"
     ]
    }
   ],
   "source": [
    "# check the ship-city, ship-state, ship-postal-code, ship-country columns for NaN values\n",
    "print(df['ship-city'].isnull().sum())\n",
    "print(df['ship-state'].isnull().sum())\n",
    "print(df['ship-postal-code'].isnull().sum())\n",
    "print(df['ship-country'].isnull().sum())\n",
    "\n",
    "print(line_break)\n",
    "\n",
    "# check the rows where ship-city is not null\n",
    "print(df[df['ship-city'].isnull()])"
   ]
  },
  {
   "cell_type": "markdown",
   "metadata": {},
   "source": [
    "I determined that its safe to fill the NaN values with 'Unknown' because I feel like those values will not have an impact on the analysis"
   ]
  },
  {
   "cell_type": "code",
   "execution_count": 15,
   "metadata": {},
   "outputs": [],
   "source": [
    "# filling missing values with 'Unknown' in columns ship-city, ship-state, ship-country\n",
    "df['ship-city'].fillna('Unknown', inplace=True)\n",
    "df['ship-state'].fillna('Unknown', inplace=True)\n",
    "df['ship-country'].fillna('Unknown', inplace=True)\n",
    "\n",
    "# since ship-postal-code is a float column i will change it to string and change the missing values to 'Unknown', we can leave it as string as we wont be doing any calculations on it\n",
    "df['ship-postal-code'] = df['ship-postal-code'].astype(str)\n",
    "df['ship-postal-code'].fillna('Unknown', inplace=True)"
   ]
  },
  {
   "cell_type": "markdown",
   "metadata": {},
   "source": [
    " Noticed a high amount of hidden duplicates in the 'ship-city' column, as you can see below we have 8 different variates of 'Ahmedabad'"
   ]
  },
  {
   "cell_type": "markdown",
   "metadata": {},
   "source": [
    "It seems to be an issue with how the data is being inputted, will not solve this issue right now"
   ]
  },
  {
   "cell_type": "code",
   "execution_count": 16,
   "metadata": {},
   "outputs": [
    {
     "name": "stdout",
     "output_type": "stream",
     "text": [
      "ship-city\n",
      "Ahmedabad                 190\n",
      "South Bopal, Ahmedabad      2\n",
      "Bodakdev, Ahmedabad         2\n",
      "Ahmedabad.                  1\n",
      "DHOLKA, Ahmedabad           1\n",
      "Chandlodia, Ahmedabad       1\n",
      "Shela, Ahmedabad            1\n",
      "SG Highway Ahmedabad        1\n",
      "Name: count, dtype: int64\n"
     ]
    }
   ],
   "source": [
    "# filter the DataFrame for rows where 'ship-city' contains 'Ahmedabad'\n",
    "ahmedabad_df = df[df['ship-city'].str.contains('Ahmedabad', na=False)]\n",
    "\n",
    "# print the value counts of different variations of 'Ahmedabad' in the 'ship-city' column\n",
    "print(ahmedabad_df['ship-city'].value_counts(dropna=False))"
   ]
  },
  {
   "cell_type": "markdown",
   "metadata": {},
   "source": [
    "These two columns has alot of mixed lower/uppercase strings. For now we will just convert all the strings in ship-city and ship-state to lowercase"
   ]
  },
  {
   "cell_type": "code",
   "execution_count": 17,
   "metadata": {},
   "outputs": [],
   "source": [
    "# convert all the strings in 'ship-city' and 'ships-state' columns to lowercase\n",
    "df['ship-city'] = df['ship-city'].str.lower()\n",
    "df['ship-state'] = df['ship-state'].str.lower()"
   ]
  },
  {
   "cell_type": "markdown",
   "metadata": {},
   "source": [
    "A simple way to visualize which columns have a large amount of missing values"
   ]
  },
  {
   "cell_type": "code",
   "execution_count": 18,
   "metadata": {},
   "outputs": [
    {
     "name": "stdout",
     "output_type": "stream",
     "text": [
      "fulfilled-by          69.546811\n",
      "promotion-ids         38.110487\n",
      "Unnamed: 22           38.030626\n",
      "Amount                 6.043807\n",
      "Order ID               0.000000\n",
      "B2B                    0.000000\n",
      "ship-country           0.000000\n",
      "ship-postal-code       0.000000\n",
      "ship-state             0.000000\n",
      "ship-city              0.000000\n",
      "currency               0.000000\n",
      "Qty                    0.000000\n",
      "index                  0.000000\n",
      "ASIN                   0.000000\n",
      "Size                   0.000000\n",
      "Category               0.000000\n",
      "SKU                    0.000000\n",
      "Style                  0.000000\n",
      "ship-service-level     0.000000\n",
      "Sales Channel          0.000000\n",
      "Fulfilment             0.000000\n",
      "Status                 0.000000\n",
      "Date                   0.000000\n",
      "Courier Status         0.000000\n",
      "dtype: float64\n"
     ]
    }
   ],
   "source": [
    "# check all the columns for missing values in percentage compared to total rows and sort them in descending order\n",
    "missing_percentage = df.isnull().sum() / len(df) * 100\n",
    "missing_percentage.sort_values(ascending=False, inplace=True)\n",
    "print(missing_percentage)"
   ]
  },
  {
   "cell_type": "markdown",
   "metadata": {},
   "source": [
    "As we saw in the earlier block 'fulfilled-by', 'Unnamed: 22', 'promotion-ids' columns has 34-69% missing values so we will drop those columns"
   ]
  },
  {
   "cell_type": "code",
   "execution_count": 19,
   "metadata": {},
   "outputs": [],
   "source": [
    "# dropping the columns with more than 34-69% values missing\n",
    "df.drop(['fulfilled-by', 'Unnamed: 22', 'promotion-ids'], axis=1, inplace=True)"
   ]
  },
  {
   "cell_type": "markdown",
   "metadata": {},
   "source": [
    "I cant really justify filling the missing values in the 'Amount' column with anything that will have a positive impact on the model so I decided to drop the ~5% of total rows"
   ]
  },
  {
   "cell_type": "code",
   "execution_count": 20,
   "metadata": {},
   "outputs": [
    {
     "name": "stdout",
     "output_type": "stream",
     "text": [
      "Total rows remaining:\n",
      "121180\n"
     ]
    }
   ],
   "source": [
    "# since the Amount column only has about 5% null values i have decided to drop those rows\n",
    "df.dropna(subset=['Amount'], inplace=True)\n",
    "\n",
    "# count total rows of amount\n",
    "print('Total rows remaining:')\n",
    "print(len(df['Amount']))"
   ]
  },
  {
   "cell_type": "markdown",
   "metadata": {},
   "source": [
    "Analyzing the 'Qty' and 'Amount' columns for negative values and correcting them if found"
   ]
  },
  {
   "cell_type": "code",
   "execution_count": 21,
   "metadata": {},
   "outputs": [
    {
     "name": "stdout",
     "output_type": "stream",
     "text": [
      "Qty has no negative values\n",
      "Amount has no negative values\n"
     ]
    }
   ],
   "source": [
    "# check if the 'Qty' column has any negative values and correct them if true\n",
    "if (df['Qty'] < 0).any():\n",
    "    print('Qty has negative values. Corrected them now...')\n",
    "    df['Qty'] = df['Qty'].clip(lower=0)\n",
    "else:\n",
    "    print('Qty has no negative values')\n",
    "\n",
    "# check if the 'Amount' column has any negative values and correct them if true\n",
    "if (df['Amount'] < 0).any():\n",
    "    print('Amount has negative values. Corrected them now...')\n",
    "    df['Amount'] = df['Amount'].clip(lower=0)\n",
    "else:\n",
    "    print('Amount has no negative values')"
   ]
  },
  {
   "cell_type": "markdown",
   "metadata": {},
   "source": [
    "First I planned to use a normal if islower then convert to upper but apparently that wouldn't work with mixed upper/lower, the lambda function however, is able to do this."
   ]
  },
  {
   "cell_type": "code",
   "execution_count": 22,
   "metadata": {},
   "outputs": [
    {
     "name": "stdout",
     "output_type": "stream",
     "text": [
      "All characters in Style column are already uppercase.\n"
     ]
    }
   ],
   "source": [
    "# checks for any lowercase character within each string and converts them to uppercase\n",
    "lowercase_count = df['Style'].apply(lambda x: any(c.islower() for c in x)).sum()\n",
    "total_row_count = len(df['Style'])\n",
    "\n",
    "if lowercase_count > 0:\n",
    "    print(f'Lowercase characters found in {lowercase_count}/{total_row_count} rows of Style column. Converted them to uppercase.')\n",
    "    df['Style'] = df['Style'].str.upper()\n",
    "else:\n",
    "    print('All characters in Style column are already uppercase.')"
   ]
  },
  {
   "cell_type": "markdown",
   "metadata": {},
   "source": [
    "Just to test if the code in the block above works properly"
   ]
  },
  {
   "cell_type": "code",
   "execution_count": 23,
   "metadata": {},
   "outputs": [
    {
     "name": "stdout",
     "output_type": "stream",
     "text": [
      "All characters in Style column are already uppercase.\n"
     ]
    }
   ],
   "source": [
    "half_count = len(df) // 2\n",
    "\n",
    "# convert the first half of the 'Style' column to lowercase\n",
    "df.loc[:half_count, 'Style'] = df.loc[:half_count, 'Style'].str.lower()\n",
    "\n",
    "# same as previous code block just to get the order right\n",
    "if lowercase_count > 0:\n",
    "    print(f'Lowercase characters found in {lowercase_count}/{total_row_count} rows of Style column. Converted them to uppercase.')\n",
    "    df['Style'] = df['Style'].str.upper()\n",
    "else:\n",
    "    print('All characters in Style column are already uppercase.')"
   ]
  },
  {
   "cell_type": "markdown",
   "metadata": {},
   "source": [
    "Converting the 'Date' column to datetime and changing the format to the \"best\" one :D"
   ]
  },
  {
   "cell_type": "code",
   "execution_count": 24,
   "metadata": {},
   "outputs": [
    {
     "name": "stdout",
     "output_type": "stream",
     "text": [
      "0   2022-04-30\n",
      "1   2022-04-30\n",
      "2   2022-04-30\n",
      "3   2022-04-30\n",
      "4   2022-04-30\n",
      "Name: Date, dtype: datetime64[ns]\n"
     ]
    }
   ],
   "source": [
    "# convert 'Date' column to datetime and change format to YYYY-MM-DD\n",
    "df['Date'] = pd.to_datetime(df['Date'], format='%m-%d-%y', errors='coerce')\n",
    "\n",
    "# print the first 5 rows of the Date column\n",
    "print(df['Date'].head())"
   ]
  },
  {
   "cell_type": "markdown",
   "metadata": {},
   "source": [
    "I noticed some mixed lowercase/uppercase in the 'Category' column so I decided to change them all to lowercase"
   ]
  },
  {
   "cell_type": "code",
   "execution_count": 25,
   "metadata": {},
   "outputs": [
    {
     "name": "stdout",
     "output_type": "stream",
     "text": [
      "Category\n",
      "set              47042\n",
      "kurta            46717\n",
      "western dress    14704\n",
      "top              10165\n",
      "ethnic dress      1093\n",
      "blouse             881\n",
      "bottom             420\n",
      "saree              155\n",
      "dupatta              3\n",
      "Name: count, dtype: int64\n"
     ]
    }
   ],
   "source": [
    "# change all the 'Category' column values to lowercase\n",
    "df['Category'] = df['Category'].str.lower()\n",
    "\n",
    "# check the 'Category' column\n",
    "print(df['Category'].value_counts(dropna=False))"
   ]
  },
  {
   "cell_type": "markdown",
   "metadata": {},
   "source": [
    "Just doing some midway data exploration to see if there is anything else that needs to be done in the cleaning phase"
   ]
  },
  {
   "cell_type": "code",
   "execution_count": 26,
   "metadata": {},
   "outputs": [
    {
     "name": "stdout",
     "output_type": "stream",
     "text": [
      "DataFrame Description:\n",
      "                index             Order ID                           Date  \\\n",
      "count   121180.000000               121180                         121180   \n",
      "unique            NaN               113030                            NaN   \n",
      "top               NaN  171-5057375-2831560                            NaN   \n",
      "freq              NaN                   12                            NaN   \n",
      "mean     64483.115877                  NaN  2022-05-12 12:08:14.814325760   \n",
      "min          0.000000                  NaN            2022-03-31 00:00:00   \n",
      "25%      32285.750000                  NaN            2022-04-20 00:00:00   \n",
      "50%      64474.500000                  NaN            2022-05-10 00:00:00   \n",
      "75%      96680.250000                  NaN            2022-06-04 00:00:00   \n",
      "max     128974.000000                  NaN            2022-06-29 00:00:00   \n",
      "std      37222.531993                  NaN                            NaN   \n",
      "\n",
      "         Status Fulfilment Sales Channel  ship-service-level    Style  \\\n",
      "count    121180     121180         121180             121180   121180   \n",
      "unique       12          2              1                  2     2534   \n",
      "top     Shipped     Amazon      Amazon.in          Expedited  JNE3797   \n",
      "freq      77596      83639         121180              82723     3165   \n",
      "mean        NaN        NaN            NaN                NaN      NaN   \n",
      "min         NaN        NaN            NaN                NaN      NaN   \n",
      "25%         NaN        NaN            NaN                NaN      NaN   \n",
      "50%         NaN        NaN            NaN                NaN      NaN   \n",
      "75%         NaN        NaN            NaN                NaN      NaN   \n",
      "max         NaN        NaN            NaN                NaN      NaN   \n",
      "std         NaN        NaN            NaN                NaN      NaN   \n",
      "\n",
      "                 SKU Category    Size        ASIN Courier Status  \\\n",
      "count         121180   121180  121180      121180         121180   \n",
      "unique          7157        9      11        7153              3   \n",
      "top     JNE3797-KR-L      set       M  B09SDXFFQ1        Shipped   \n",
      "freq             722    47042   21292         722         109487   \n",
      "mean             NaN      NaN     NaN         NaN            NaN   \n",
      "min              NaN      NaN     NaN         NaN            NaN   \n",
      "25%              NaN      NaN     NaN         NaN            NaN   \n",
      "50%              NaN      NaN     NaN         NaN            NaN   \n",
      "75%              NaN      NaN     NaN         NaN            NaN   \n",
      "max              NaN      NaN     NaN         NaN            NaN   \n",
      "std              NaN      NaN     NaN         NaN            NaN   \n",
      "\n",
      "                  Qty currency         Amount  ship-city   ship-state  \\\n",
      "count   121180.000000   121180  121180.000000     121180       121180   \n",
      "unique            NaN        1            NaN       7100           47   \n",
      "top               NaN      INR            NaN  bengaluru  maharashtra   \n",
      "freq              NaN   121180            NaN      11324        21073   \n",
      "mean         0.961231      NaN     648.561465        NaN          NaN   \n",
      "min          0.000000      NaN       0.000000        NaN          NaN   \n",
      "25%          1.000000      NaN     449.000000        NaN          NaN   \n",
      "50%          1.000000      NaN     605.000000        NaN          NaN   \n",
      "75%          1.000000      NaN     788.000000        NaN          NaN   \n",
      "max          8.000000      NaN    5584.000000        NaN          NaN   \n",
      "std          0.214354      NaN     281.211687        NaN          NaN   \n",
      "\n",
      "       ship-postal-code ship-country     B2B  \n",
      "count            121180       121180  121180  \n",
      "unique             9274            2       2  \n",
      "top            201301.0           IN   False  \n",
      "freq                959       121149  120337  \n",
      "mean                NaN          NaN     NaN  \n",
      "min                 NaN          NaN     NaN  \n",
      "25%                 NaN          NaN     NaN  \n",
      "50%                 NaN          NaN     NaN  \n",
      "75%                 NaN          NaN     NaN  \n",
      "max                 NaN          NaN     NaN  \n",
      "std                 NaN          NaN     NaN  \n",
      "\n",
      "--------------------------------------------------\n",
      "\n",
      "Count of missing values per column:\n",
      "index                 0\n",
      "Order ID              0\n",
      "Date                  0\n",
      "Status                0\n",
      "Fulfilment            0\n",
      "Sales Channel         0\n",
      "ship-service-level    0\n",
      "Style                 0\n",
      "SKU                   0\n",
      "Category              0\n",
      "Size                  0\n",
      "ASIN                  0\n",
      "Courier Status        0\n",
      "Qty                   0\n",
      "currency              0\n",
      "Amount                0\n",
      "ship-city             0\n",
      "ship-state            0\n",
      "ship-postal-code      0\n",
      "ship-country          0\n",
      "B2B                   0\n",
      "dtype: int64\n",
      "\n",
      "--------------------------------------------------\n",
      "\n",
      "Total rows remaining:\n",
      "121180\n"
     ]
    }
   ],
   "source": [
    "# check the cleaned dataset\n",
    "print(\"DataFrame Description:\")\n",
    "print(df.describe(include='all'))\n",
    "\n",
    "print(line_break)\n",
    "\n",
    "# check all columns for missing values\n",
    "print(\"Count of missing values per column:\")\n",
    "print(df.isnull().sum())\n",
    "\n",
    "print(line_break)\n",
    "\n",
    "# print total remaining rows\n",
    "print('Total rows remaining:')\n",
    "print(len(df))"
   ]
  },
  {
   "cell_type": "markdown",
   "metadata": {},
   "source": [
    "## 3. Feature Engineering"
   ]
  },
  {
   "cell_type": "markdown",
   "metadata": {},
   "source": [
    "#### First we will create new columns using the Date column\n",
    " I chose to only extract Weekday (Monday-Sunday) and Is_weekday TRUE/FALSE (0/1)"
   ]
  },
  {
   "cell_type": "code",
   "execution_count": 27,
   "metadata": {},
   "outputs": [],
   "source": [
    "# adding a column for 'Weekday' using the 'Date' column\n",
    "df['Weekday'] = df['Date'].dt.day_name()\n",
    "\n",
    "# adding a column for 'Is_weekday' using the 'Date' column\n",
    "# the lambda function will check if the day of the week is 5 or 6 (saturday or sunday) and return 1 if true and 0 if false\n",
    "df['Is_weekday'] = df['Date'].dt.dayofweek.apply(lambda x: 0 if x >= 5 else 1)"
   ]
  },
  {
   "cell_type": "code",
   "execution_count": 51,
   "metadata": {},
   "outputs": [
    {
     "name": "stdout",
     "output_type": "stream",
     "text": [
      "      Weekday  Is_weekday\n",
      "5822  Tuesday           1\n",
      "5823  Tuesday           1\n",
      "5824  Tuesday           1\n",
      "5825  Tuesday           1\n",
      "5826  Tuesday           1\n",
      "\n",
      "--------------------------------------------------\n",
      "\n",
      "    Weekday  Is_weekday\n",
      "0  Saturday           0\n",
      "1  Saturday           0\n",
      "2  Saturday           0\n",
      "3  Saturday           0\n",
      "4  Saturday           0\n"
     ]
    }
   ],
   "source": [
    "# to check if it works we are printing only weekday and is_weekday columns, one where weekday is monday and the other where weekday is saturday\n",
    "print(df[['Weekday', 'Is_weekday']][df['Weekday'] == 'Tuesday'].head())\n",
    "print(line_break)\n",
    "print(df[['Weekday', 'Is_weekday']][df['Weekday'] == 'Saturday'].head())"
   ]
  },
  {
   "cell_type": "markdown",
   "metadata": {},
   "source": [
    " Converting the 'B2B' column from TRUE/FALSE to binary. I learned that I can instantly convert a bool column to int and all the values TRUE/FALSE will be automatically converted to 1/0"
   ]
  },
  {
   "cell_type": "code",
   "execution_count": 29,
   "metadata": {},
   "outputs": [
    {
     "name": "stdout",
     "output_type": "stream",
     "text": [
      "B2B\n",
      "False    120337\n",
      "True        843\n",
      "Name: count, dtype: int64\n",
      "\n",
      "--------------------------------------------------\n",
      "\n",
      "Datatype:\n",
      "bool\n"
     ]
    }
   ],
   "source": [
    "# check the values in the 'B2B' column\n",
    "print(df['B2B'].value_counts(dropna=False))\n",
    "\n",
    "print(line_break)\n",
    "\n",
    "# check the datatype of the 'B2B' column\n",
    "print('Datatype:')\n",
    "print(df['B2B'].dtypes)"
   ]
  },
  {
   "cell_type": "code",
   "execution_count": 30,
   "metadata": {},
   "outputs": [
    {
     "name": "stdout",
     "output_type": "stream",
     "text": [
      "B2B\n",
      "0    120337\n",
      "1       843\n",
      "Name: count, dtype: int64\n"
     ]
    }
   ],
   "source": [
    "# convert the 'B2B' TRUE values to 1 and FALSE values to 0, since the datatype is bool we can just convert it to int\n",
    "df['B2B'] = df['B2B'].astype(int)\n",
    "print(df['B2B'].value_counts(dropna=False))"
   ]
  },
  {
   "cell_type": "markdown",
   "metadata": {},
   "source": [
    "Getting a better understanding of the 'Amount' column by using the describe function aswell as visualizing it to get a better idea"
   ]
  },
  {
   "cell_type": "code",
   "execution_count": 50,
   "metadata": {},
   "outputs": [
    {
     "name": "stdout",
     "output_type": "stream",
     "text": [
      "Description of 'Amount' column:\n",
      "count    121180.000000\n",
      "mean        648.561465\n",
      "std         281.211687\n",
      "min           0.000000\n",
      "25%         449.000000\n",
      "50%         605.000000\n",
      "75%         788.000000\n",
      "max        5584.000000\n",
      "Name: Amount, dtype: float64\n",
      "\n",
      "--------------------------------------------------\n",
      "\n",
      "Distribution of 'Amount' column:\n"
     ]
    },
    {
     "data": {
      "image/png": "[encoded data removed]",
      "text/plain": [
       "<Figure size 600x300 with 1 Axes>"
      ]
     },
     "metadata": {},
     "output_type": "display_data"
    }
   ],
   "source": [
    "# lets find out more about the 'Amount' column\n",
    "print(\"Description of 'Amount' column:\")\n",
    "print(df['Amount'].describe())\n",
    "\n",
    "print(line_break)\n",
    "\n",
    "# lets visualize the distribution of the 'Amount' column\n",
    "print(\"Distribution of 'Amount' column:\")\n",
    "plt.figure(figsize=(6, 3))\n",
    "plt.hist(df['Amount'], bins=50, edgecolor='black')\n",
    "plt.title('Distribution of Amount')\n",
    "plt.xlabel('Amount')\n",
    "plt.ylabel('Count')\n",
    "plt.axvline(df['Amount'].max(), color='red', linestyle='dashed', linewidth=1)\n",
    "plt.text(df['Amount'].max() + 500, 10000, 'Max', rotation=360)\n",
    "plt.text(df['Amount'].max() + 500, 9000, df['Amount'].max())\n",
    "plt.axvline(df['Amount'].mean(), color='green', linestyle='dashed', linewidth=1)\n",
    "plt.text(df['Amount'].mean() + 500, 10000, 'Mean', rotation=360)\n",
    "plt.text(df['Amount'].mean() + 500, 9000, round(df['Amount'].mean(), 2))\n",
    "plt.show()"
   ]
  },
  {
   "cell_type": "code",
   "execution_count": 47,
   "metadata": {},
   "outputs": [
    {
     "data": {
      "image/png": "[encoded data removed]",
      "text/plain": [
       "<Figure size 600x300 with 1 Axes>"
      ]
     },
     "metadata": {},
     "output_type": "display_data"
    }
   ],
   "source": [
    "# visualize the amount column but i want to see the outliers better\n",
    "plt.figure(figsize=(6, 3))\n",
    "plt.boxplot(df['Amount'])\n",
    "plt.title('Distribution of Amount')\n",
    "# add the max value as a label\n",
    "plt.text(1.1, df['Amount'].max(), 'Max', rotation=360)\n",
    "plt.ylabel('Amount')\n",
    "plt.show()\n"
   ]
  },
  {
   "cell_type": "markdown",
   "metadata": {},
   "source": [
    "In the earlier block I learned that we have some extreme outliers, after consulting my colleague mr GPT I decided to do a log transformation on the 'Amount' column"
   ]
  },
  {
   "cell_type": "code",
   "execution_count": 33,
   "metadata": {},
   "outputs": [],
   "source": [
    "# adding 1 to the 'Amount_Log' column to avoid dividing by 0\n",
    "df['Amount_Log'] = np.log(df['Amount'] + 1)\n",
    "\n",
    "# scaling the 'Amount_Log' column using MinMaxScaler to values between 0 and 1\n",
    "scaler = MinMaxScaler()\n",
    "df['Amount_Log_Scaled'] = scaler.fit_transform(df[['Amount_Log']])"
   ]
  },
  {
   "cell_type": "code",
   "execution_count": 34,
   "metadata": {},
   "outputs": [
    {
     "name": "stdout",
     "output_type": "stream",
     "text": [
      "Description of 'Amount_Log' column:\n",
      "count    121180.000000\n",
      "mean          6.295429\n",
      "std           0.963910\n",
      "min           0.000000\n",
      "25%           6.109248\n",
      "50%           6.406880\n",
      "75%           6.670766\n",
      "max           8.627840\n",
      "Name: Amount_Log, dtype: float64\n",
      "Distribution of 'Amount_Log' column:\n"
     ]
    },
    {
     "data": {
      "image/png": "[encoded data removed]",
      "text/plain": [
       "<Figure size 600x300 with 1 Axes>"
      ]
     },
     "metadata": {},
     "output_type": "display_data"
    }
   ],
   "source": [
    "# describe the 'Amount_Log' column\n",
    "print(\"Description of 'Amount_Log' column:\")\n",
    "print(df['Amount_Log'].describe())\n",
    "\n",
    "# visualize the Amount_log column\n",
    "print(\"Distribution of 'Amount_Log' column:\")\n",
    "plt.figure(figsize=(6, 3))\n",
    "plt.hist(df['Amount_Log'], bins=50, edgecolor='black')\n",
    "plt.title('Distribution of Amount_Log')\n",
    "plt.xlabel('Amount_Log')\n",
    "plt.ylabel('Count')\n",
    "plt.axvline(df['Amount_Log'].max(), color='red', linestyle='dashed', linewidth=1)\n",
    "plt.text(df['Amount_Log'].max() + 0.1, 10000, 'Max', rotation=360)\n",
    "plt.text(df['Amount_Log'].max() + 0.1, 9000, round(df['Amount_Log'].max(), 2))\n",
    "plt.axvline(df['Amount_Log'].mean(), color='green', linestyle='dashed', linewidth=1)\n",
    "plt.text(df['Amount_Log'].mean() + 0.1, 10000, 'Mean', rotation=360)\n",
    "plt.text(df['Amount_Log'].mean() + 0.1, 9000, round(df['Amount_Log'].mean(), 2))\n",
    "plt.show()"
   ]
  },
  {
   "cell_type": "markdown",
   "metadata": {},
   "source": [
    "Visualizing the new columns that I generated"
   ]
  },
  {
   "cell_type": "code",
   "execution_count": 35,
   "metadata": {},
   "outputs": [
    {
     "name": "stdout",
     "output_type": "stream",
     "text": [
      "Description of 'Amount_Log' column:\n",
      "count    121180.000000\n",
      "mean          6.295429\n",
      "std           0.963910\n",
      "min           0.000000\n",
      "25%           6.109248\n",
      "50%           6.406880\n",
      "75%           6.670766\n",
      "max           8.627840\n",
      "Name: Amount_Log, dtype: float64\n",
      "\n",
      "--------------------------------------------------\n",
      "\n",
      "Description of 'Amount_Log_Scaled' column:\n",
      "count    121180.000000\n",
      "mean          0.729665\n",
      "std           0.111721\n",
      "min           0.000000\n",
      "25%           0.708085\n",
      "50%           0.742582\n",
      "75%           0.773168\n",
      "max           1.000000\n",
      "Name: Amount_Log_Scaled, dtype: float64\n",
      "\n",
      "--------------------------------------------------\n",
      "\n",
      "Distribution of 'Amount_Log_Scaled' column:\n"
     ]
    },
    {
     "data": {
      "image/png": "[encoded data removed]",
      "text/plain": [
       "<Figure size 600x300 with 1 Axes>"
      ]
     },
     "metadata": {},
     "output_type": "display_data"
    }
   ],
   "source": [
    "# describe the 'Amount_Log' column\n",
    "print(\"Description of 'Amount_Log' column:\")\n",
    "print(df['Amount_Log'].describe())\n",
    "\n",
    "print(line_break)\n",
    "\n",
    "print(\"Description of 'Amount_Log_Scaled' column:\")\n",
    "print(df['Amount_Log_Scaled'].describe())\n",
    "\n",
    "print(line_break)\n",
    "\n",
    "# lets visualize the distribution of the 'Amount_Log' column\n",
    "print(\"Distribution of 'Amount_Log_Scaled' column:\")\n",
    "plt.figure(figsize=(6, 3))\n",
    "plt.hist(df['Amount_Log_Scaled'], bins=100, edgecolor='black')\n",
    "plt.title('Distribution of Amount_Log_Scaled')\n",
    "plt.xlabel('Amount_Log_Scaled')\n",
    "plt.ylabel('Count')\n",
    "plt.axvline(df['Amount_Log_Scaled'].max(), color='red', linestyle='dashed', linewidth=1)\n",
    "plt.text(df['Amount_Log_Scaled'].max() + 0.1, 10000, 'Max')\n",
    "plt.text(df['Amount_Log_Scaled'].max() + 0.1, 9000, round(df['Amount_Log_Scaled'].max(), 2))\n",
    "plt.axvline(df['Amount_Log_Scaled'].mean(), color='green', linestyle='dashed', linewidth=1)\n",
    "plt.text(df['Amount_Log_Scaled'].mean() + 0.1, 10000, 'Mean')\n",
    "plt.text(df['Amount_Log_Scaled'].mean() + 0.1, 9000, round(df['Amount_Log_Scaled'].mean(), 2))\n",
    "plt.show()"
   ]
  },
  {
   "cell_type": "markdown",
   "metadata": {},
   "source": [
    "After doing some research I decided to create 5 bins for the 'Amount' column based on the distribution\n",
    "*    Bin 1: 0 to 0.708 (covers up to the 25th percentile)\n",
    "*    Bin 2: 0.708 to 0.742 (covers the 25th to 50th percentile)\n",
    "*    Bin 3: 0.742 to 0.773 (covers the 50th to 75th percentile)\n",
    "*    Bin 4: 0.773 to 0.887 (covers the 75th percentile to an arbitrary upper value)\n",
    "*    Bin 5: 0.887 to 1 (covers the remaining range)"
   ]
  },
  {
   "cell_type": "code",
   "execution_count": 36,
   "metadata": {},
   "outputs": [],
   "source": [
    "bin_edges = [0, 0.708, 0.742, 0.773, 0.887, 1]\n",
    "\n",
    "bin_labels = ['Min-Q1', 'Q1-Q2', 'Q2-Q3', 'Q3-Q4', 'Q4-Max']\n",
    "\n",
    "df['Amount_Log_Scaled_Bins'] = pd.cut(df['Amount_Log_Scaled'], bins=bin_edges, labels=bin_labels, include_lowest=True)"
   ]
  },
  {
   "cell_type": "markdown",
   "metadata": {},
   "source": [
    "Visualizing the bins"
   ]
  },
  {
   "cell_type": "code",
   "execution_count": 37,
   "metadata": {},
   "outputs": [
    {
     "data": {
      "image/png": "[encoded data removed]",
      "text/plain": [
       "<Figure size 600x400 with 1 Axes>"
      ]
     },
     "metadata": {},
     "output_type": "display_data"
    },
    {
     "name": "stdout",
     "output_type": "stream",
     "text": [
      "Description of 'Amount_Log_Scaled_Bins' column:\n",
      "Amount_Log_Scaled_Bins\n",
      "Q3-Q4     30884\n",
      "Q1-Q2     30232\n",
      "Min-Q1    30172\n",
      "Q2-Q3     29844\n",
      "Q4-Max       48\n",
      "Name: count, dtype: int64\n"
     ]
    }
   ],
   "source": [
    "# barchart for the 'Amount_Log_Scaled_Bins' column\n",
    "\n",
    "plt.figure(figsize=(6, 4))\n",
    "df['Amount_Log_Scaled_Bins'].value_counts().plot(kind='bar')\n",
    "plt.title('Distribution of Amount_Log_Scaled Across Bins')\n",
    "for i in range(df['Amount_Log_Scaled_Bins'].value_counts().shape[0]):\n",
    "    count = df['Amount_Log_Scaled_Bins'].value_counts().values[i]\n",
    "    str_count = str(count)\n",
    "    plt.text(i, count + 1600, str_count, ha='center', va='top')\n",
    "plt.xlabel('Bins')\n",
    "plt.ylabel('Frequency')\n",
    "plt.show()\n",
    "\n",
    "# describe the 'Amount_Log_Scaled_Bins' column\n",
    "print(\"Description of 'Amount_Log_Scaled_Bins' column:\")\n",
    "print(df['Amount_Log_Scaled_Bins'].value_counts(dropna=False))"
   ]
  },
  {
   "cell_type": "markdown",
   "metadata": {},
   "source": [
    "Describing the 'Qty' column we can see that the mean is around 1 with very low standard deviation aswell as the 4th quantile is 1.00 and max is 8, indicates that we have some extreme outliers"
   ]
  },
  {
   "cell_type": "code",
   "execution_count": 38,
   "metadata": {},
   "outputs": [
    {
     "name": "stdout",
     "output_type": "stream",
     "text": [
      "Description of 'Qty' column:\n",
      "count    121180.000000\n",
      "mean          0.961231\n",
      "std           0.214354\n",
      "min           0.000000\n",
      "25%           1.000000\n",
      "50%           1.000000\n",
      "75%           1.000000\n",
      "max           8.000000\n",
      "Name: Qty, dtype: float64\n"
     ]
    }
   ],
   "source": [
    "# lets find out more about the 'Qty' column\n",
    "print(\"Description of 'Qty' column:\")\n",
    "print(df['Qty'].describe())"
   ]
  },
  {
   "cell_type": "markdown",
   "metadata": {},
   "source": [
    "I looked into the data and realized without surprise that the outliers in 'Amount' are on the same rows as the outliers in 'Qty'"
   ]
  },
  {
   "cell_type": "code",
   "execution_count": 39,
   "metadata": {},
   "outputs": [
    {
     "name": "stdout",
     "output_type": "stream",
     "text": [
      "       Qty  Amount\n",
      "2107     3  1128.0\n",
      "3289     3  2175.0\n",
      "11160    5  5495.0\n",
      "17338    4  1316.0\n",
      "19180    3  1326.0\n"
     ]
    }
   ],
   "source": [
    "# print the columns 'Qty' and 'Amount' to see rows where Qty is larger than 2\n",
    "print(df[['Qty', 'Amount']][df['Qty'] > 2].head())"
   ]
  },
  {
   "cell_type": "markdown",
   "metadata": {},
   "source": [
    "Decided to do a log transformation on the 'Qty' column aswell, this time I used the log1p function within the numpy library that handles zero values by adding a + 1 before transformation"
   ]
  },
  {
   "cell_type": "code",
   "execution_count": 40,
   "metadata": {},
   "outputs": [],
   "source": [
    "# we will perform a log transformation on the 'Qty', log1p is used to handle zero values to avoid errors\n",
    "df['Qty_Log'] = np.log1p(df['Qty'])\n",
    "\n",
    "# scaling the 'Qty_Log' column using MinMaxScaler to values between 0 and 1\n",
    "scaler = MinMaxScaler()\n",
    "df['Qty_Log_Scaled'] = scaler.fit_transform(df[['Qty_Log']])"
   ]
  },
  {
   "cell_type": "markdown",
   "metadata": {},
   "source": [
    "I also used the MinMaxScaler to get the values between 0 and 1 in the new Qty_Log_Scaled column"
   ]
  },
  {
   "cell_type": "code",
   "execution_count": 41,
   "metadata": {},
   "outputs": [
    {
     "name": "stdout",
     "output_type": "stream",
     "text": [
      "Description of 'Qty_Log_Scaled' column:\n",
      "Qty_Log_Scaled\n",
      "0.315465    115665\n",
      "0.000000      5136\n",
      "0.500000       337\n",
      "0.630930        31\n",
      "0.732487         8\n",
      "0.815465         2\n",
      "1.000000         1\n",
      "Name: count, dtype: int64\n"
     ]
    }
   ],
   "source": [
    "print(\"Description of 'Qty_Log_Scaled' column:\")\n",
    "print(df['Qty_Log_Scaled'].value_counts())"
   ]
  },
  {
   "cell_type": "markdown",
   "metadata": {},
   "source": [
    "Evaluating the columns to see which ones we should do one-hot encoding on"
   ]
  },
  {
   "cell_type": "code",
   "execution_count": 42,
   "metadata": {},
   "outputs": [
    {
     "name": "stdout",
     "output_type": "stream",
     "text": [
      "Unique values in each column:\n",
      "index                     121180\n",
      "Order ID                  113030\n",
      "Date                          91\n",
      "Status                        12\n",
      "Fulfilment                     2\n",
      "Sales Channel                  1\n",
      "ship-service-level             2\n",
      "Style                       2534\n",
      "SKU                         7157\n",
      "Category                       9\n",
      "Size                          11\n",
      "ASIN                        7153\n",
      "Courier Status                 3\n",
      "Qty                            7\n",
      "currency                       1\n",
      "Amount                      1410\n",
      "ship-city                   7100\n",
      "ship-state                    47\n",
      "ship-postal-code            9274\n",
      "ship-country                   2\n",
      "B2B                            2\n",
      "Weekday                        7\n",
      "Is_weekday                     2\n",
      "Amount_Log                  1410\n",
      "Amount_Log_Scaled           1410\n",
      "Amount_Log_Scaled_Bins         5\n",
      "Qty_Log                        7\n",
      "Qty_Log_Scaled                 7\n",
      "dtype: int64\n"
     ]
    }
   ],
   "source": [
    "# get a list of the columns and how many unique values they have\n",
    "print(\"Unique values in each column:\")\n",
    "print(df.nunique())"
   ]
  },
  {
   "cell_type": "markdown",
   "metadata": {},
   "source": [
    "Since I don't really know which algorithm will be used or how the model will be trained on the data I decided to just encode one column to test it out"
   ]
  },
  {
   "cell_type": "code",
   "execution_count": 43,
   "metadata": {},
   "outputs": [],
   "source": [
    "# one-hot encode the 'Fulfilment' column into 'Fulfilment_Amazon' and 'Fulfilment_Merchant'\n",
    "df = pd.get_dummies(df, columns=['Fulfilment'], prefix=['Fulfilment'])\n",
    "# and convert the new columns to int\n",
    "df['Fulfilment_Merchant'] = df['Fulfilment_Merchant'].astype(int)\n",
    "df['Fulfilment_Amazon'] = df['Fulfilment_Amazon'].astype(int)"
   ]
  },
  {
   "cell_type": "markdown",
   "metadata": {},
   "source": [
    "There seems to be a a lot of factors to consider when choosing which categorical columns to perform OneHot Encoding on"
   ]
  },
  {
   "cell_type": "markdown",
   "metadata": {},
   "source": [
    "#### Printing the finished dataframe"
   ]
  },
  {
   "cell_type": "code",
   "execution_count": 44,
   "metadata": {},
   "outputs": [
    {
     "data": {
      "text/html": [
       "<div>\n",
       "<style scoped>\n",
       "    .dataframe tbody tr th:only-of-type {\n",
       "        vertical-align: middle;\n",
       "    }\n",
       "\n",
       "    .dataframe tbody tr th {\n",
       "        vertical-align: top;\n",
       "    }\n",
       "\n",
       "    .dataframe thead th {\n",
       "        text-align: right;\n",
       "    }\n",
       "</style>\n",
       "<table border=\"1\" class=\"dataframe\">\n",
       "  <thead>\n",
       "    <tr style=\"text-align: right;\">\n",
       "      <th></th>\n",
       "      <th>index</th>\n",
       "      <th>Order ID</th>\n",
       "      <th>Date</th>\n",
       "      <th>Status</th>\n",
       "      <th>Sales Channel</th>\n",
       "      <th>ship-service-level</th>\n",
       "      <th>Style</th>\n",
       "      <th>SKU</th>\n",
       "      <th>Category</th>\n",
       "      <th>Size</th>\n",
       "      <th>ASIN</th>\n",
       "      <th>Courier Status</th>\n",
       "      <th>Qty</th>\n",
       "      <th>currency</th>\n",
       "      <th>Amount</th>\n",
       "      <th>ship-city</th>\n",
       "      <th>ship-state</th>\n",
       "      <th>ship-postal-code</th>\n",
       "      <th>ship-country</th>\n",
       "      <th>B2B</th>\n",
       "      <th>Weekday</th>\n",
       "      <th>Is_weekday</th>\n",
       "      <th>Amount_Log</th>\n",
       "      <th>Amount_Log_Scaled</th>\n",
       "      <th>Amount_Log_Scaled_Bins</th>\n",
       "      <th>Qty_Log</th>\n",
       "      <th>Qty_Log_Scaled</th>\n",
       "      <th>Fulfilment_Amazon</th>\n",
       "      <th>Fulfilment_Merchant</th>\n",
       "    </tr>\n",
       "  </thead>\n",
       "  <tbody>\n",
       "    <tr>\n",
       "      <th>0</th>\n",
       "      <td>0</td>\n",
       "      <td>405-8078784-5731545</td>\n",
       "      <td>2022-04-30</td>\n",
       "      <td>Cancelled</td>\n",
       "      <td>Amazon.in</td>\n",
       "      <td>Standard</td>\n",
       "      <td>set389</td>\n",
       "      <td>SET389-KR-NP-S</td>\n",
       "      <td>set</td>\n",
       "      <td>S</td>\n",
       "      <td>B09KXVBD7Z</td>\n",
       "      <td>Unknown</td>\n",
       "      <td>0</td>\n",
       "      <td>INR</td>\n",
       "      <td>647.62</td>\n",
       "      <td>mumbai</td>\n",
       "      <td>maharashtra</td>\n",
       "      <td>400081.0</td>\n",
       "      <td>IN</td>\n",
       "      <td>0</td>\n",
       "      <td>Saturday</td>\n",
       "      <td>0</td>\n",
       "      <td>6.474847</td>\n",
       "      <td>0.750460</td>\n",
       "      <td>Q2-Q3</td>\n",
       "      <td>0.000000</td>\n",
       "      <td>0.000000</td>\n",
       "      <td>0</td>\n",
       "      <td>1</td>\n",
       "    </tr>\n",
       "    <tr>\n",
       "      <th>1</th>\n",
       "      <td>1</td>\n",
       "      <td>171-9198151-1101146</td>\n",
       "      <td>2022-04-30</td>\n",
       "      <td>Shipped - Delivered to Buyer</td>\n",
       "      <td>Amazon.in</td>\n",
       "      <td>Standard</td>\n",
       "      <td>jne3781</td>\n",
       "      <td>JNE3781-KR-XXXL</td>\n",
       "      <td>kurta</td>\n",
       "      <td>3XL</td>\n",
       "      <td>B09K3WFS32</td>\n",
       "      <td>Shipped</td>\n",
       "      <td>1</td>\n",
       "      <td>INR</td>\n",
       "      <td>406.00</td>\n",
       "      <td>bengaluru</td>\n",
       "      <td>karnataka</td>\n",
       "      <td>560085.0</td>\n",
       "      <td>IN</td>\n",
       "      <td>0</td>\n",
       "      <td>Saturday</td>\n",
       "      <td>0</td>\n",
       "      <td>6.008813</td>\n",
       "      <td>0.696445</td>\n",
       "      <td>Min-Q1</td>\n",
       "      <td>0.693147</td>\n",
       "      <td>0.315465</td>\n",
       "      <td>0</td>\n",
       "      <td>1</td>\n",
       "    </tr>\n",
       "    <tr>\n",
       "      <th>2</th>\n",
       "      <td>2</td>\n",
       "      <td>404-0687676-7273146</td>\n",
       "      <td>2022-04-30</td>\n",
       "      <td>Shipped</td>\n",
       "      <td>Amazon.in</td>\n",
       "      <td>Expedited</td>\n",
       "      <td>jne3371</td>\n",
       "      <td>JNE3371-KR-XL</td>\n",
       "      <td>kurta</td>\n",
       "      <td>XL</td>\n",
       "      <td>B07WV4JV4D</td>\n",
       "      <td>Shipped</td>\n",
       "      <td>1</td>\n",
       "      <td>INR</td>\n",
       "      <td>329.00</td>\n",
       "      <td>navi mumbai</td>\n",
       "      <td>maharashtra</td>\n",
       "      <td>410210.0</td>\n",
       "      <td>IN</td>\n",
       "      <td>1</td>\n",
       "      <td>Saturday</td>\n",
       "      <td>0</td>\n",
       "      <td>5.799093</td>\n",
       "      <td>0.672137</td>\n",
       "      <td>Min-Q1</td>\n",
       "      <td>0.693147</td>\n",
       "      <td>0.315465</td>\n",
       "      <td>1</td>\n",
       "      <td>0</td>\n",
       "    </tr>\n",
       "    <tr>\n",
       "      <th>3</th>\n",
       "      <td>3</td>\n",
       "      <td>403-9615377-8133951</td>\n",
       "      <td>2022-04-30</td>\n",
       "      <td>Cancelled</td>\n",
       "      <td>Amazon.in</td>\n",
       "      <td>Standard</td>\n",
       "      <td>j0341</td>\n",
       "      <td>J0341-DR-L</td>\n",
       "      <td>western dress</td>\n",
       "      <td>L</td>\n",
       "      <td>B099NRCT7B</td>\n",
       "      <td>Unknown</td>\n",
       "      <td>0</td>\n",
       "      <td>INR</td>\n",
       "      <td>753.33</td>\n",
       "      <td>puducherry</td>\n",
       "      <td>puducherry</td>\n",
       "      <td>605008.0</td>\n",
       "      <td>IN</td>\n",
       "      <td>0</td>\n",
       "      <td>Saturday</td>\n",
       "      <td>0</td>\n",
       "      <td>6.625830</td>\n",
       "      <td>0.767959</td>\n",
       "      <td>Q2-Q3</td>\n",
       "      <td>0.000000</td>\n",
       "      <td>0.000000</td>\n",
       "      <td>0</td>\n",
       "      <td>1</td>\n",
       "    </tr>\n",
       "    <tr>\n",
       "      <th>4</th>\n",
       "      <td>4</td>\n",
       "      <td>407-1069790-7240320</td>\n",
       "      <td>2022-04-30</td>\n",
       "      <td>Shipped</td>\n",
       "      <td>Amazon.in</td>\n",
       "      <td>Expedited</td>\n",
       "      <td>jne3671</td>\n",
       "      <td>JNE3671-TU-XXXL</td>\n",
       "      <td>top</td>\n",
       "      <td>3XL</td>\n",
       "      <td>B098714BZP</td>\n",
       "      <td>Shipped</td>\n",
       "      <td>1</td>\n",
       "      <td>INR</td>\n",
       "      <td>574.00</td>\n",
       "      <td>chennai</td>\n",
       "      <td>tamil nadu</td>\n",
       "      <td>600073.0</td>\n",
       "      <td>IN</td>\n",
       "      <td>0</td>\n",
       "      <td>Saturday</td>\n",
       "      <td>0</td>\n",
       "      <td>6.354370</td>\n",
       "      <td>0.736496</td>\n",
       "      <td>Q1-Q2</td>\n",
       "      <td>0.693147</td>\n",
       "      <td>0.315465</td>\n",
       "      <td>1</td>\n",
       "      <td>0</td>\n",
       "    </tr>\n",
       "  </tbody>\n",
       "</table>\n",
       "</div>"
      ],
      "text/plain": [
       "   index             Order ID       Date                        Status  \\\n",
       "0      0  405-8078784-5731545 2022-04-30                     Cancelled   \n",
       "1      1  171-9198151-1101146 2022-04-30  Shipped - Delivered to Buyer   \n",
       "2      2  404-0687676-7273146 2022-04-30                       Shipped   \n",
       "3      3  403-9615377-8133951 2022-04-30                     Cancelled   \n",
       "4      4  407-1069790-7240320 2022-04-30                       Shipped   \n",
       "\n",
       "  Sales Channel  ship-service-level    Style              SKU       Category  \\\n",
       "0      Amazon.in           Standard   set389   SET389-KR-NP-S            set   \n",
       "1      Amazon.in           Standard  jne3781  JNE3781-KR-XXXL          kurta   \n",
       "2      Amazon.in          Expedited  jne3371    JNE3371-KR-XL          kurta   \n",
       "3      Amazon.in           Standard    j0341       J0341-DR-L  western dress   \n",
       "4      Amazon.in          Expedited  jne3671  JNE3671-TU-XXXL            top   \n",
       "\n",
       "  Size        ASIN Courier Status  Qty currency  Amount    ship-city  \\\n",
       "0    S  B09KXVBD7Z        Unknown    0      INR  647.62       mumbai   \n",
       "1  3XL  B09K3WFS32        Shipped    1      INR  406.00    bengaluru   \n",
       "2   XL  B07WV4JV4D        Shipped    1      INR  329.00  navi mumbai   \n",
       "3    L  B099NRCT7B        Unknown    0      INR  753.33   puducherry   \n",
       "4  3XL  B098714BZP        Shipped    1      INR  574.00      chennai   \n",
       "\n",
       "    ship-state ship-postal-code ship-country  B2B   Weekday  Is_weekday  \\\n",
       "0  maharashtra         400081.0           IN    0  Saturday           0   \n",
       "1    karnataka         560085.0           IN    0  Saturday           0   \n",
       "2  maharashtra         410210.0           IN    1  Saturday           0   \n",
       "3   puducherry         605008.0           IN    0  Saturday           0   \n",
       "4   tamil nadu         600073.0           IN    0  Saturday           0   \n",
       "\n",
       "   Amount_Log  Amount_Log_Scaled Amount_Log_Scaled_Bins   Qty_Log  \\\n",
       "0    6.474847           0.750460                  Q2-Q3  0.000000   \n",
       "1    6.008813           0.696445                 Min-Q1  0.693147   \n",
       "2    5.799093           0.672137                 Min-Q1  0.693147   \n",
       "3    6.625830           0.767959                  Q2-Q3  0.000000   \n",
       "4    6.354370           0.736496                  Q1-Q2  0.693147   \n",
       "\n",
       "   Qty_Log_Scaled  Fulfilment_Amazon  Fulfilment_Merchant  \n",
       "0        0.000000                  0                    1  \n",
       "1        0.315465                  0                    1  \n",
       "2        0.315465                  1                    0  \n",
       "3        0.000000                  0                    1  \n",
       "4        0.315465                  1                    0  "
      ]
     },
     "execution_count": 44,
     "metadata": {},
     "output_type": "execute_result"
    }
   ],
   "source": [
    "df.head()"
   ]
  },
  {
   "cell_type": "code",
   "execution_count": 45,
   "metadata": {},
   "outputs": [
    {
     "name": "stdout",
     "output_type": "stream",
     "text": [
      "Count of missing values per column:\n",
      "index                     0\n",
      "Order ID                  0\n",
      "Date                      0\n",
      "Status                    0\n",
      "Sales Channel             0\n",
      "ship-service-level        0\n",
      "Style                     0\n",
      "SKU                       0\n",
      "Category                  0\n",
      "Size                      0\n",
      "ASIN                      0\n",
      "Courier Status            0\n",
      "Qty                       0\n",
      "currency                  0\n",
      "Amount                    0\n",
      "ship-city                 0\n",
      "ship-state                0\n",
      "ship-postal-code          0\n",
      "ship-country              0\n",
      "B2B                       0\n",
      "Weekday                   0\n",
      "Is_weekday                0\n",
      "Amount_Log                0\n",
      "Amount_Log_Scaled         0\n",
      "Amount_Log_Scaled_Bins    0\n",
      "Qty_Log                   0\n",
      "Qty_Log_Scaled            0\n",
      "Fulfilment_Amazon         0\n",
      "Fulfilment_Merchant       0\n",
      "dtype: int64\n"
     ]
    }
   ],
   "source": [
    "# check missing values from all columns\n",
    "print(\"Count of missing values per column:\")\n",
    "print(df.isnull().sum())"
   ]
  },
  {
   "cell_type": "markdown",
   "metadata": {},
   "source": [
    "### Save the dataframe to xlsx to view the finished dataset (not necessary)"
   ]
  },
  {
   "cell_type": "code",
   "execution_count": 46,
   "metadata": {},
   "outputs": [],
   "source": [
    "# save an xlsx file of the cleaned dataset\n",
    "#df.to_excel('AmazonDataSales_cleaned.xlsx', index=False)"
   ]
  }
 ],
 "metadata": {
  "kernelspec": {
   "display_name": "ML_kurs",
   "language": "python",
   "name": "python3"
  },
  "language_info": {
   "codemirror_mode": {
    "name": "ipython",
    "version": 3
   },
   "file_extension": ".py",
   "mimetype": "text/x-python",
   "name": "python",
   "nbconvert_exporter": "python",
   "pygments_lexer": "ipython3",
   "version": "3.10.13"
  }
 },
 "nbformat": 4,
 "nbformat_minor": 2
}
