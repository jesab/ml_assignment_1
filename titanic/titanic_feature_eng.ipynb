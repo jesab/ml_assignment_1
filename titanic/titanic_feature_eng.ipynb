{
 "cells": [
  {
   "cell_type": "code",
   "execution_count": null,
   "metadata": {},
   "outputs": [],
   "source": [
    "import pandas as pd\n",
    "import numpy as np"
   ]
  },
  {
   "cell_type": "markdown",
   "metadata": {},
   "source": [
    "## \n",
    "First step:\n",
    "Data Exploration\n",
    "First, we'll load the Titanic dataset and briefly showcase it using pandas."
   ]
  },
  {
   "cell_type": "code",
   "execution_count": 30,
   "metadata": {},
   "outputs": [],
   "source": [
    "file_path = \"Titanic-Dataset.csv\"\n",
    "df = pd.read_csv(file_path)"
   ]
  },
  {
   "cell_type": "code",
   "execution_count": 25,
   "metadata": {},
   "outputs": [
    {
     "name": "stdout",
     "output_type": "stream",
     "text": [
      "   PassengerId  Survived  Pclass  \\\n",
      "0            1         0       3   \n",
      "1            2         1       1   \n",
      "2            3         1       3   \n",
      "3            4         1       1   \n",
      "4            5         0       3   \n",
      "\n",
      "                                                Name  Sex   Age  SibSp  Parch  \\\n",
      "0                            Braund, Mr. Owen Harris  NaN  22.0      1      0   \n",
      "1  Cumings, Mrs. John Bradley (Florence Briggs Th...  NaN  38.0      1      0   \n",
      "2                             Heikkinen, Miss. Laina  NaN  26.0      0      0   \n",
      "3       Futrelle, Mrs. Jacques Heath (Lily May Peel)  NaN  35.0      1      0   \n",
      "4                           Allen, Mr. William Henry  NaN  35.0      0      0   \n",
      "\n",
      "             Ticket     Fare Cabin Embarked  FamilySize  \n",
      "0         A/5 21171   7.2500   NaN        S           1  \n",
      "1          PC 17599  71.2833   C85        C           1  \n",
      "2  STON/O2. 3101282   7.9250   NaN        S           0  \n",
      "3            113803  53.1000  C123        S           1  \n",
      "4            373450   8.0500   NaN        S           0  \n"
     ]
    }
   ],
   "source": [
    "# create new column named \"FamilySize\" by combining SibSp and Parch\n",
    "df[\"FamilySize\"] = df[\"SibSp\"] + df[\"Parch\"]\n",
    "print(df.head())"
   ]
  },
  {
   "cell_type": "code",
   "execution_count": 24,
   "metadata": {},
   "outputs": [
    {
     "name": "stdout",
     "output_type": "stream",
     "text": [
      "<class 'pandas.core.frame.DataFrame'>\n",
      "RangeIndex: 891 entries, 0 to 890\n",
      "Data columns (total 13 columns):\n",
      " #   Column       Non-Null Count  Dtype  \n",
      "---  ------       --------------  -----  \n",
      " 0   PassengerId  891 non-null    int64  \n",
      " 1   Survived     891 non-null    int64  \n",
      " 2   Pclass       891 non-null    int64  \n",
      " 3   Name         891 non-null    object \n",
      " 4   Sex          0 non-null      float64\n",
      " 5   Age          714 non-null    float64\n",
      " 6   SibSp        891 non-null    int64  \n",
      " 7   Parch        891 non-null    int64  \n",
      " 8   Ticket       891 non-null    object \n",
      " 9   Fare         891 non-null    float64\n",
      " 10  Cabin        204 non-null    object \n",
      " 11  Embarked     889 non-null    object \n",
      " 12  FamilySize   891 non-null    int64  \n",
      "dtypes: float64(3), int64(6), object(4)\n",
      "memory usage: 90.6+ KB\n",
      "None\n"
     ]
    }
   ],
   "source": [
    "# show different columns and their data types\n",
    "print(df.info())"
   ]
  },
  {
   "cell_type": "code",
   "execution_count": 32,
   "metadata": {},
   "outputs": [
    {
     "name": "stdout",
     "output_type": "stream",
     "text": [
      "   PassengerId  Survived  Pclass  \\\n",
      "0            1         0       3   \n",
      "1            2         1       1   \n",
      "2            3         1       3   \n",
      "3            4         1       1   \n",
      "4            5         0       3   \n",
      "5            6         0       3   \n",
      "6            7         0       1   \n",
      "7            8         0       3   \n",
      "8            9         1       3   \n",
      "9           10         1       2   \n",
      "\n",
      "                                                Name  Sex  Age  SibSp  Parch  \\\n",
      "0                            Braund, Mr. Owen Harris  NaN   22      1      0   \n",
      "1  Cumings, Mrs. John Bradley (Florence Briggs Th...  NaN   38      1      0   \n",
      "2                             Heikkinen, Miss. Laina  NaN   26      0      0   \n",
      "3       Futrelle, Mrs. Jacques Heath (Lily May Peel)  NaN   35      1      0   \n",
      "4                           Allen, Mr. William Henry  NaN   35      0      0   \n",
      "5                                   Moran, Mr. James  NaN   29      0      0   \n",
      "6                            McCarthy, Mr. Timothy J  NaN   54      0      0   \n",
      "7                     Palsson, Master. Gosta Leonard  NaN    2      3      1   \n",
      "8  Johnson, Mrs. Oscar W (Elisabeth Vilhelmina Berg)  NaN   27      0      2   \n",
      "9                Nasser, Mrs. Nicholas (Adele Achem)  NaN   14      1      0   \n",
      "\n",
      "             Ticket     Fare Cabin Embarked  \n",
      "0         A/5 21171   7.2500   NaN        S  \n",
      "1          PC 17599  71.2833   C85        C  \n",
      "2  STON/O2. 3101282   7.9250   NaN        S  \n",
      "3            113803  53.1000  C123        S  \n",
      "4            373450   8.0500   NaN        S  \n",
      "5            330877   8.4583   NaN        Q  \n",
      "6             17463  51.8625   E46        S  \n",
      "7            349909  21.0750   NaN        S  \n",
      "8            347742  11.1333   NaN        S  \n",
      "9            237736  30.0708   NaN        C  \n"
     ]
    }
   ],
   "source": [
    "# integer encoding\n",
    "df[\"Sex\"] = df[\"Sex\"].map({\"male\": 0, \"female\": 1})\n",
    "\n",
    "# round all the numbers in Age column and then convert them to integer also handle null values\n",
    "df[\"Age\"] = df[\"Age\"].round().fillna(df[\"Age\"].mean()).astype(int)\n",
    "\n",
    "print(df.head(10))"
   ]
  },
  {
   "cell_type": "code",
   "execution_count": 22,
   "metadata": {},
   "outputs": [],
   "source": [
    "# i want to save this dataframe (df) to a new excel file\n",
    "df.to_excel(\"Min-nya-Excel-fil.xlsx\")"
   ]
  }
 ],
 "metadata": {
  "kernelspec": {
   "display_name": "ML_kurs",
   "language": "python",
   "name": "python3"
  },
  "language_info": {
   "codemirror_mode": {
    "name": "ipython",
    "version": 3
   },
   "file_extension": ".py",
   "mimetype": "text/x-python",
   "name": "python",
   "nbconvert_exporter": "python",
   "pygments_lexer": "ipython3",
   "version": "3.10.13"
  }
 },
 "nbformat": 4,
 "nbformat_minor": 2
}
