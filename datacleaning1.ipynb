{
 "cells": [
  {
   "cell_type": "markdown",
   "metadata": {},
   "source": [
    "# Jonathan Souty - Inlämning 1\n",
    "## 1. Data Exploration"
   ]
  },
  {
   "cell_type": "code",
   "execution_count": null,
   "metadata": {},
   "outputs": [],
   "source": [
    "import pandas as pd\n",
    "import numpy as np\n",
    "import matplotlib.pyplot as plt\n",
    "\n",
    "from sklearn.model_selection import train_test_split\n",
    "from sklearn.preprocessing import StandardScaler, MinMaxScaler, OneHotEncoder\n",
    "from sklearn.impute import SimpleImputer\n",
    "\n",
    "line_break = '\\n' + ('-' * 50) + '\\n'"
   ]
  },
  {
   "cell_type": "markdown",
   "metadata": {},
   "source": [
    "### Defining the local file path and loading it into a pandas dataframe"
   ]
  },
  {
   "cell_type": "code",
   "execution_count": null,
   "metadata": {},
   "outputs": [],
   "source": [
    "file_path = 'C:/Users/jonat/Documents/python/pyabon/ml_inlämning_1/AmazonDataSales.csv'\n",
    "df = pd.read_csv(file_path)"
   ]
  },
  {
   "cell_type": "code",
   "execution_count": 33,
   "metadata": {},
   "outputs": [
    {
     "data": {
      "text/html": [
       "<div>\n",
       "<style scoped>\n",
       "    .dataframe tbody tr th:only-of-type {\n",
       "        vertical-align: middle;\n",
       "    }\n",
       "\n",
       "    .dataframe tbody tr th {\n",
       "        vertical-align: top;\n",
       "    }\n",
       "\n",
       "    .dataframe thead th {\n",
       "        text-align: right;\n",
       "    }\n",
       "</style>\n",
       "<table border=\"1\" class=\"dataframe\">\n",
       "  <thead>\n",
       "    <tr style=\"text-align: right;\">\n",
       "      <th></th>\n",
       "      <th>index</th>\n",
       "      <th>Order ID</th>\n",
       "      <th>Date</th>\n",
       "      <th>Status</th>\n",
       "      <th>Fulfilment</th>\n",
       "      <th>Sales Channel</th>\n",
       "      <th>ship-service-level</th>\n",
       "      <th>Style</th>\n",
       "      <th>SKU</th>\n",
       "      <th>Category</th>\n",
       "      <th>Size</th>\n",
       "      <th>ASIN</th>\n",
       "      <th>Courier Status</th>\n",
       "      <th>Qty</th>\n",
       "      <th>currency</th>\n",
       "      <th>Amount</th>\n",
       "      <th>ship-city</th>\n",
       "      <th>ship-state</th>\n",
       "      <th>ship-postal-code</th>\n",
       "      <th>ship-country</th>\n",
       "      <th>promotion-ids</th>\n",
       "      <th>B2B</th>\n",
       "      <th>fulfilled-by</th>\n",
       "      <th>Unnamed: 22</th>\n",
       "      <th>Amount_Log</th>\n",
       "      <th>Amount_Log_Scaled</th>\n",
       "    </tr>\n",
       "  </thead>\n",
       "  <tbody>\n",
       "    <tr>\n",
       "      <th>0</th>\n",
       "      <td>0</td>\n",
       "      <td>405-8078784-5731545</td>\n",
       "      <td>04-30-22</td>\n",
       "      <td>Cancelled</td>\n",
       "      <td>Merchant</td>\n",
       "      <td>Amazon.in</td>\n",
       "      <td>Standard</td>\n",
       "      <td>SET389</td>\n",
       "      <td>SET389-KR-NP-S</td>\n",
       "      <td>Set</td>\n",
       "      <td>S</td>\n",
       "      <td>B09KXVBD7Z</td>\n",
       "      <td>Unknown</td>\n",
       "      <td>0</td>\n",
       "      <td>INR</td>\n",
       "      <td>647.62</td>\n",
       "      <td>MUMBAI</td>\n",
       "      <td>MAHARASHTRA</td>\n",
       "      <td>400081.0</td>\n",
       "      <td>IN</td>\n",
       "      <td>NaN</td>\n",
       "      <td>False</td>\n",
       "      <td>Easy Ship</td>\n",
       "      <td>NaN</td>\n",
       "      <td>6.474847</td>\n",
       "      <td>0.750460</td>\n",
       "    </tr>\n",
       "    <tr>\n",
       "      <th>1</th>\n",
       "      <td>1</td>\n",
       "      <td>171-9198151-1101146</td>\n",
       "      <td>04-30-22</td>\n",
       "      <td>Shipped - Delivered to Buyer</td>\n",
       "      <td>Merchant</td>\n",
       "      <td>Amazon.in</td>\n",
       "      <td>Standard</td>\n",
       "      <td>JNE3781</td>\n",
       "      <td>JNE3781-KR-XXXL</td>\n",
       "      <td>kurta</td>\n",
       "      <td>3XL</td>\n",
       "      <td>B09K3WFS32</td>\n",
       "      <td>Shipped</td>\n",
       "      <td>1</td>\n",
       "      <td>INR</td>\n",
       "      <td>406.00</td>\n",
       "      <td>BENGALURU</td>\n",
       "      <td>KARNATAKA</td>\n",
       "      <td>560085.0</td>\n",
       "      <td>IN</td>\n",
       "      <td>Amazon PLCC Free-Financing Universal Merchant ...</td>\n",
       "      <td>False</td>\n",
       "      <td>Easy Ship</td>\n",
       "      <td>NaN</td>\n",
       "      <td>6.008813</td>\n",
       "      <td>0.696445</td>\n",
       "    </tr>\n",
       "    <tr>\n",
       "      <th>2</th>\n",
       "      <td>2</td>\n",
       "      <td>404-0687676-7273146</td>\n",
       "      <td>04-30-22</td>\n",
       "      <td>Shipped</td>\n",
       "      <td>Amazon</td>\n",
       "      <td>Amazon.in</td>\n",
       "      <td>Expedited</td>\n",
       "      <td>JNE3371</td>\n",
       "      <td>JNE3371-KR-XL</td>\n",
       "      <td>kurta</td>\n",
       "      <td>XL</td>\n",
       "      <td>B07WV4JV4D</td>\n",
       "      <td>Shipped</td>\n",
       "      <td>1</td>\n",
       "      <td>INR</td>\n",
       "      <td>329.00</td>\n",
       "      <td>NAVI MUMBAI</td>\n",
       "      <td>MAHARASHTRA</td>\n",
       "      <td>410210.0</td>\n",
       "      <td>IN</td>\n",
       "      <td>IN Core Free Shipping 2015/04/08 23-48-5-108</td>\n",
       "      <td>True</td>\n",
       "      <td>NaN</td>\n",
       "      <td>NaN</td>\n",
       "      <td>5.799093</td>\n",
       "      <td>0.672137</td>\n",
       "    </tr>\n",
       "    <tr>\n",
       "      <th>3</th>\n",
       "      <td>3</td>\n",
       "      <td>403-9615377-8133951</td>\n",
       "      <td>04-30-22</td>\n",
       "      <td>Cancelled</td>\n",
       "      <td>Merchant</td>\n",
       "      <td>Amazon.in</td>\n",
       "      <td>Standard</td>\n",
       "      <td>J0341</td>\n",
       "      <td>J0341-DR-L</td>\n",
       "      <td>Western Dress</td>\n",
       "      <td>L</td>\n",
       "      <td>B099NRCT7B</td>\n",
       "      <td>Unknown</td>\n",
       "      <td>0</td>\n",
       "      <td>INR</td>\n",
       "      <td>753.33</td>\n",
       "      <td>PUDUCHERRY</td>\n",
       "      <td>PUDUCHERRY</td>\n",
       "      <td>605008.0</td>\n",
       "      <td>IN</td>\n",
       "      <td>NaN</td>\n",
       "      <td>False</td>\n",
       "      <td>Easy Ship</td>\n",
       "      <td>NaN</td>\n",
       "      <td>6.625830</td>\n",
       "      <td>0.767959</td>\n",
       "    </tr>\n",
       "    <tr>\n",
       "      <th>4</th>\n",
       "      <td>4</td>\n",
       "      <td>407-1069790-7240320</td>\n",
       "      <td>04-30-22</td>\n",
       "      <td>Shipped</td>\n",
       "      <td>Amazon</td>\n",
       "      <td>Amazon.in</td>\n",
       "      <td>Expedited</td>\n",
       "      <td>JNE3671</td>\n",
       "      <td>JNE3671-TU-XXXL</td>\n",
       "      <td>Top</td>\n",
       "      <td>3XL</td>\n",
       "      <td>B098714BZP</td>\n",
       "      <td>Shipped</td>\n",
       "      <td>1</td>\n",
       "      <td>INR</td>\n",
       "      <td>574.00</td>\n",
       "      <td>CHENNAI</td>\n",
       "      <td>TAMIL NADU</td>\n",
       "      <td>600073.0</td>\n",
       "      <td>IN</td>\n",
       "      <td>NaN</td>\n",
       "      <td>False</td>\n",
       "      <td>NaN</td>\n",
       "      <td>NaN</td>\n",
       "      <td>6.354370</td>\n",
       "      <td>0.736496</td>\n",
       "    </tr>\n",
       "  </tbody>\n",
       "</table>\n",
       "</div>"
      ],
      "text/plain": [
       "   index             Order ID      Date                        Status  \\\n",
       "0      0  405-8078784-5731545  04-30-22                     Cancelled   \n",
       "1      1  171-9198151-1101146  04-30-22  Shipped - Delivered to Buyer   \n",
       "2      2  404-0687676-7273146  04-30-22                       Shipped   \n",
       "3      3  403-9615377-8133951  04-30-22                     Cancelled   \n",
       "4      4  407-1069790-7240320  04-30-22                       Shipped   \n",
       "\n",
       "  Fulfilment Sales Channel  ship-service-level    Style              SKU  \\\n",
       "0   Merchant      Amazon.in           Standard   SET389   SET389-KR-NP-S   \n",
       "1   Merchant      Amazon.in           Standard  JNE3781  JNE3781-KR-XXXL   \n",
       "2     Amazon      Amazon.in          Expedited  JNE3371    JNE3371-KR-XL   \n",
       "3   Merchant      Amazon.in           Standard    J0341       J0341-DR-L   \n",
       "4     Amazon      Amazon.in          Expedited  JNE3671  JNE3671-TU-XXXL   \n",
       "\n",
       "        Category Size        ASIN Courier Status  Qty currency  Amount  \\\n",
       "0            Set    S  B09KXVBD7Z        Unknown    0      INR  647.62   \n",
       "1          kurta  3XL  B09K3WFS32        Shipped    1      INR  406.00   \n",
       "2          kurta   XL  B07WV4JV4D        Shipped    1      INR  329.00   \n",
       "3  Western Dress    L  B099NRCT7B        Unknown    0      INR  753.33   \n",
       "4            Top  3XL  B098714BZP        Shipped    1      INR  574.00   \n",
       "\n",
       "     ship-city   ship-state  ship-postal-code ship-country  \\\n",
       "0       MUMBAI  MAHARASHTRA          400081.0           IN   \n",
       "1    BENGALURU    KARNATAKA          560085.0           IN   \n",
       "2  NAVI MUMBAI  MAHARASHTRA          410210.0           IN   \n",
       "3   PUDUCHERRY   PUDUCHERRY          605008.0           IN   \n",
       "4      CHENNAI   TAMIL NADU          600073.0           IN   \n",
       "\n",
       "                                       promotion-ids    B2B fulfilled-by  \\\n",
       "0                                                NaN  False    Easy Ship   \n",
       "1  Amazon PLCC Free-Financing Universal Merchant ...  False    Easy Ship   \n",
       "2       IN Core Free Shipping 2015/04/08 23-48-5-108   True          NaN   \n",
       "3                                                NaN  False    Easy Ship   \n",
       "4                                                NaN  False          NaN   \n",
       "\n",
       "  Unnamed: 22  Amount_Log  Amount_Log_Scaled  \n",
       "0         NaN    6.474847           0.750460  \n",
       "1         NaN    6.008813           0.696445  \n",
       "2         NaN    5.799093           0.672137  \n",
       "3         NaN    6.625830           0.767959  \n",
       "4         NaN    6.354370           0.736496  "
      ]
     },
     "execution_count": 33,
     "metadata": {},
     "output_type": "execute_result"
    }
   ],
   "source": [
    "# setting option to display all the columns\n",
    "pd.set_option('display.max_columns', None)\n",
    "# using df.head() instead of print(df.head()) gives a better view of the data\n",
    "df.head()"
   ]
  },
  {
   "cell_type": "code",
   "execution_count": null,
   "metadata": {},
   "outputs": [],
   "source": [
    "# describe the dataframe\n",
    "print(df.describe(include='all'))\n",
    "\n",
    "# total rows = 128 975\n",
    "# there are a few duplicates of Order ID, seems like its the same order but with different products"
   ]
  },
  {
   "cell_type": "code",
   "execution_count": 25,
   "metadata": {},
   "outputs": [
    {
     "data": {
      "text/plain": [
       "index                   int64\n",
       "Order ID               object\n",
       "Date                   object\n",
       "Status                 object\n",
       "Fulfilment             object\n",
       "Sales Channel          object\n",
       "ship-service-level     object\n",
       "Style                  object\n",
       "SKU                    object\n",
       "Category               object\n",
       "Size                   object\n",
       "ASIN                   object\n",
       "Courier Status         object\n",
       "Qty                     int64\n",
       "currency               object\n",
       "Amount                float64\n",
       "ship-city              object\n",
       "ship-state             object\n",
       "ship-postal-code      float64\n",
       "ship-country           object\n",
       "promotion-ids          object\n",
       "B2B                      bool\n",
       "fulfilled-by           object\n",
       "Unnamed: 22            object\n",
       "dtype: object"
      ]
     },
     "execution_count": 25,
     "metadata": {},
     "output_type": "execute_result"
    }
   ],
   "source": [
    "# print datatypes\n",
    "df.dtypes\n",
    "\n",
    "# to do's\n",
    "# change Date to datetime\n",
    "# change ship-postal-code from float to int\n",
    "# change B2B from bool to int(0,1)"
   ]
  },
  {
   "cell_type": "code",
   "execution_count": null,
   "metadata": {},
   "outputs": [],
   "source": [
    "# check for missing/null values\n",
    "print(\"Count of missing values per column:\")\n",
    "print(df.isnull().sum())"
   ]
  },
  {
   "cell_type": "code",
   "execution_count": null,
   "metadata": {},
   "outputs": [],
   "source": [
    "# check for duplicates\n",
    "print(\"Count of duplicates:\")\n",
    "print(df.duplicated().sum())"
   ]
  },
  {
   "cell_type": "markdown",
   "metadata": {},
   "source": [
    "## 2. Data Cleaning"
   ]
  },
  {
   "cell_type": "code",
   "execution_count": null,
   "metadata": {},
   "outputs": [],
   "source": [
    "# check Courier Status column aswell as how many null values there are\n",
    "print(df['Courier Status'].value_counts(dropna=False))"
   ]
  },
  {
   "cell_type": "code",
   "execution_count": null,
   "metadata": {},
   "outputs": [],
   "source": [
    "# replace NaN values with 'Unknown'\n",
    "df['Courier Status'].fillna('Unknown', inplace=True)\n",
    "print(df['Courier Status'].value_counts(dropna=False))"
   ]
  },
  {
   "cell_type": "code",
   "execution_count": null,
   "metadata": {},
   "outputs": [],
   "source": [
    "# visualize the distribution of amount column\n",
    "plt.hist(df['Amount'], bins=100)\n",
    "# figure size\n",
    "plt.figure(figsize=(6, 2))\n",
    "plt.title('Distribution of Amount')\n",
    "plt.xlabel('Amount')\n",
    "plt.ylabel('Count')\n",
    "# give me a label for max value\n",
    "plt.text(1000, 10000, 'Max value: 1000')\n",
    "\n",
    "plt.show()\n",
    "\n",
    "# which columns do i have?\n",
    "print(df.columns)\n",
    "# do you know which columns i have in AmazonDataSales.csv?\n",
    "\n"
   ]
  },
  {
   "cell_type": "code",
   "execution_count": null,
   "metadata": {},
   "outputs": [],
   "source": [
    "# check the currency column\n",
    "print(df['currency'].value_counts(dropna=False))\n",
    "\n",
    "print(line_break)\n",
    "\n",
    "# print the rows where currency is null\n",
    "print(df[df['currency'].isnull()])\n",
    "\n",
    "print(line_break)\n",
    "\n",
    "# check how many rows there are where currency is null but the Amount column isnt null\n",
    "print('Rows with null currency but not null Amount:')\n",
    "print(df[(df['currency'].isnull()) & (df['Amount'].notnull())])"
   ]
  },
  {
   "cell_type": "code",
   "execution_count": null,
   "metadata": {},
   "outputs": [],
   "source": [
    "# we only have INR currency so its safe to assume that the null values are INR\n",
    "df['currency'].fillna('INR', inplace=True)\n",
    "print(df['currency'].value_counts(dropna=False))"
   ]
  },
  {
   "cell_type": "code",
   "execution_count": null,
   "metadata": {},
   "outputs": [],
   "source": [
    "# since the Amount column only has about 5% null values i have decided to drop those rows\n",
    "df.dropna(subset=['Amount'], inplace=True)\n",
    "\n",
    "# count total rows of amount\n",
    "print('Total rows remaining:')\n",
    "print(len(df['Amount']))"
   ]
  },
  {
   "cell_type": "code",
   "execution_count": null,
   "metadata": {},
   "outputs": [],
   "source": [
    "# check the ship-city, ship-state, ship-postal-code, ship-country columns for NaN values\n",
    "print(df['ship-city'].isnull().sum())\n",
    "print(df['ship-state'].isnull().sum())\n",
    "print(df['ship-postal-code'].isnull().sum())\n",
    "print(df['ship-country'].isnull().sum())\n",
    "\n",
    "print(line_break)\n",
    "\n",
    "# check the rows where ship-city is not null\n",
    "print(df[df['ship-city'].isnull()])"
   ]
  },
  {
   "cell_type": "code",
   "execution_count": null,
   "metadata": {},
   "outputs": [],
   "source": [
    "# filling missing values with 'Unknown' in columns ship-city, ship-state, ship-country\n",
    "df['ship-city'].fillna('Unknown', inplace=True)\n",
    "df['ship-state'].fillna('Unknown', inplace=True)\n",
    "df['ship-country'].fillna('Unknown', inplace=True)\n",
    "\n",
    "# since ship-postal-code is a float column i will change it to string and change the missing values to 'Unknown', we can leave it as string as we wont be doing any calculations on it\n",
    "df['ship-postal-code'] = df['ship-postal-code'].astype(str)\n",
    "df['ship-postal-code'].fillna('Unknown', inplace=True)"
   ]
  },
  {
   "cell_type": "code",
   "execution_count": null,
   "metadata": {},
   "outputs": [],
   "source": [
    "# check all the columns for missing values in percentage compared to total rows and sort them in descending order\n",
    "missing_percentage = df.isnull().sum() / len(df) * 100\n",
    "missing_percentage.sort_values(ascending=False, inplace=True)\n",
    "print(missing_percentage)"
   ]
  },
  {
   "cell_type": "code",
   "execution_count": null,
   "metadata": {},
   "outputs": [],
   "source": [
    "# as we saw in the earlier block 'fulfilled-by', 'Unnamed: 22', 'promotion-ids' columns has 34-69% missing values so we will drop those columns\n",
    "df.drop(['fulfilled-by', 'Unnamed: 22', 'promotion-ids'], axis=1, inplace=True)"
   ]
  },
  {
   "cell_type": "code",
   "execution_count": null,
   "metadata": {},
   "outputs": [],
   "source": [
    "# check if the 'Qty' column has any negative values and correct them if true\n",
    "if (df['Qty'] < 0).any():\n",
    "    print('Qty has negative values. Corrected them now...')\n",
    "    df['Qty'] = df['Qty'].clip(lower=0)\n",
    "else:\n",
    "    print('Qty has no negative values')\n",
    "\n",
    "# check if the 'Amount' column has any negative values and correct them if true\n",
    "if (df['Amount'] < 0).any():\n",
    "    print('Amount has negative values. Corrected them now...')\n",
    "    df['Amount'] = df['Amount'].clip(lower=0)\n",
    "else:\n",
    "    print('Amount has no negative values')"
   ]
  },
  {
   "cell_type": "markdown",
   "metadata": {},
   "source": [
    "First I planned to use a normal if islower then convert to upper but apparently that wouldn't work with mixed upper/lower, the lambda function however, is able to do this."
   ]
  },
  {
   "cell_type": "code",
   "execution_count": null,
   "metadata": {},
   "outputs": [],
   "source": [
    "# checks for any lowercase character within each string and converts them to uppercase\n",
    "lowercase_count = df['Style'].apply(lambda x: any(c.islower() for c in x)).sum()\n",
    "total_row_count = len(df['Style'])\n",
    "\n",
    "if lowercase_count > 0:\n",
    "    print(f'Lowercase characters found in {lowercase_count}/{total_row_count} rows of Style column. Converted them to uppercase.')\n",
    "    df['Style'] = df['Style'].str.upper()\n",
    "else:\n",
    "    print('All characters in Style column are already uppercase.')"
   ]
  },
  {
   "cell_type": "code",
   "execution_count": null,
   "metadata": {},
   "outputs": [],
   "source": [
    "half_count = len(df) // 2\n",
    "\n",
    "# convert the first half of the 'Style' column to lowercase\n",
    "df.loc[:half_count, 'Style'] = df.loc[:half_count, 'Style'].str.lower()\n",
    "\n",
    "# same as previous code block just to get the order right\n",
    "if lowercase_count > 0:\n",
    "    print(f'Lowercase characters found in {lowercase_count}/{total_row_count} rows of Style column. Converted them to uppercase.')\n",
    "    df['Style'] = df['Style'].str.upper()\n",
    "else:\n",
    "    print('All characters in Style column are already uppercase.')"
   ]
  },
  {
   "cell_type": "code",
   "execution_count": null,
   "metadata": {},
   "outputs": [],
   "source": [
    "# convert 'Date' column to datetime and change format to YYYY-MM-DD\n",
    "df['Date'] = pd.to_datetime(df['Date'], format='%m-%d-%y', errors='coerce')\n",
    "\n",
    "# print the first 5 rows of the Date column\n",
    "print(df['Date'].head(10))"
   ]
  },
  {
   "cell_type": "code",
   "execution_count": null,
   "metadata": {},
   "outputs": [],
   "source": [
    "# change all the 'Category' column values to lowercase\n",
    "df['Category'] = df['Category'].str.lower()\n",
    "\n",
    "# check the 'Category' column\n",
    "print(df['Category'].value_counts(dropna=False))"
   ]
  },
  {
   "cell_type": "code",
   "execution_count": null,
   "metadata": {},
   "outputs": [],
   "source": [
    "# check the cleaned dataset\n",
    "print(\"DataFrame Description:\")\n",
    "print(df.describe(include='all'))\n",
    "\n",
    "print(line_break)\n",
    "\n",
    "# check all columns for missing values\n",
    "print(\"Count of missing values per column:\")\n",
    "print(df.isnull().sum())\n",
    "\n",
    "print(line_break)\n",
    "\n",
    "# print total remaining rows\n",
    "print('Total rows remaining:')\n",
    "print(len(df))"
   ]
  },
  {
   "cell_type": "markdown",
   "metadata": {},
   "source": [
    "## 3. Feature Engineering"
   ]
  },
  {
   "cell_type": "markdown",
   "metadata": {},
   "source": [
    "### First we will create new columns using the Date column\n",
    "#### I chose to only extract Weekday (Monday-Sunday) and Is_weekday TRUE/FALSE (0/1)"
   ]
  },
  {
   "cell_type": "code",
   "execution_count": null,
   "metadata": {},
   "outputs": [],
   "source": [
    "# adding a column for 'Weekday' using the 'Date' column\n",
    "df['Weekday'] = df['Date'].dt.day_name()\n",
    "\n",
    "# adding a column for 'Is_weekday' using the 'Date' column\n",
    "# the lambda function will check if the day of the week is 5 or 6 (saturday or sunday) and return 1 if true and 0 if false\n",
    "df['Is_weekday'] = df['Date'].dt.dayofweek.apply(lambda x: 0 if x >= 5 else 1)"
   ]
  },
  {
   "cell_type": "code",
   "execution_count": null,
   "metadata": {},
   "outputs": [],
   "source": [
    "# to check if it works we are printing only weekday and is_weekday columns, one where weekday is monday and the other where weekday is saturday\n",
    "print(df[['Weekday', 'Is_weekday']][df['Weekday'] == 'Monday'].head())\n",
    "print(df[['Weekday', 'Is_weekday']][df['Weekday'] == 'Saturday'].head())"
   ]
  },
  {
   "cell_type": "markdown",
   "metadata": {},
   "source": [
    "### Converting the 'B2B' column from TRUE/FALSE to binary"
   ]
  },
  {
   "cell_type": "code",
   "execution_count": null,
   "metadata": {},
   "outputs": [],
   "source": [
    "# check the values in the 'B2B' column\n",
    "print(df['B2B'].value_counts(dropna=False))\n",
    "\n",
    "print(line_break)\n",
    "\n",
    "# check the datatype of the 'B2B' column\n",
    "print(df['B2B'].dtypes)"
   ]
  },
  {
   "cell_type": "code",
   "execution_count": null,
   "metadata": {},
   "outputs": [],
   "source": [
    "# convert the 'B2B' TRUE values to 1 and FALSE values to 0, since the datatype is bool we can just convert it to int\n",
    "df['B2B'] = df['B2B'].astype(int)\n",
    "print(df['B2B'].value_counts(dropna=False))"
   ]
  },
  {
   "cell_type": "markdown",
   "metadata": {},
   "source": [
    "### Handling the 'Amount' column"
   ]
  },
  {
   "cell_type": "code",
   "execution_count": null,
   "metadata": {},
   "outputs": [],
   "source": [
    "# lets find out more about the 'Amount' column\n",
    "print(\"Description of 'Amount' column:\")\n",
    "print(df['Amount'].describe())\n",
    "\n",
    "print(line_break)\n",
    "\n",
    "# lets visualize the distribution of the 'Amount' column\n",
    "print(\"Distribution of 'Amount' column:\")\n",
    "plt.figure(figsize=(6, 3))\n",
    "plt.hist(df['Amount'], bins=100, edgecolor='black')\n",
    "plt.title('Distribution of Amount')\n",
    "plt.xlabel('Amount')\n",
    "plt.ylabel('Count')\n",
    "plt.axvline(df['Amount'].max(), color='red', linestyle='dashed', linewidth=1)\n",
    "plt.text(df['Amount'].max() + 500, 10000, 'Max', rotation=360)\n",
    "plt.text(df['Amount'].max() + 500, 9000, df['Amount'].max())\n",
    "plt.axvline(df['Amount'].mean(), color='green', linestyle='dashed', linewidth=1)\n",
    "plt.text(df['Amount'].mean() + 500, 10000, 'Mean', rotation=360)\n",
    "plt.text(df['Amount'].mean() + 500, 9000, round(df['Amount'].mean(), 2))\n",
    "plt.show()"
   ]
  },
  {
   "cell_type": "code",
   "execution_count": 30,
   "metadata": {},
   "outputs": [],
   "source": [
    "# because I decided to do a log transformation on the 'Amount' column I will create a new column called 'Amount_Log' and apply the log transformation on the 'Amount' column\n",
    "# also we will add 1 to the 'Amount_Log' column to avoid dividing by 0\n",
    "df['Amount_Log'] = np.log(df['Amount'] + 1)\n",
    "\n",
    "# lets scale the 'Amount_Log' column\n",
    "scaler = MinMaxScaler()\n",
    "df['Amount_Log_Scaled'] = scaler.fit_transform(df[['Amount_Log']])"
   ]
  },
  {
   "cell_type": "code",
   "execution_count": 32,
   "metadata": {},
   "outputs": [
    {
     "name": "stdout",
     "output_type": "stream",
     "text": [
      "Description of 'Amount_Log' column:\n",
      "count    121180.000000\n",
      "mean          6.295429\n",
      "std           0.963910\n",
      "min           0.000000\n",
      "25%           6.109248\n",
      "50%           6.406880\n",
      "75%           6.670766\n",
      "max           8.627840\n",
      "Name: Amount_Log, dtype: float64\n",
      "\n",
      "--------------------------------------------------\n",
      "\n",
      "Description of 'Amount_Log_Scaled' column:\n",
      "count    121180.000000\n",
      "mean          0.729665\n",
      "std           0.111721\n",
      "min           0.000000\n",
      "25%           0.708085\n",
      "50%           0.742582\n",
      "75%           0.773168\n",
      "max           1.000000\n",
      "Name: Amount_Log_Scaled, dtype: float64\n",
      "\n",
      "--------------------------------------------------\n",
      "\n",
      "Distribution of 'Amount_Log_Scaled' column:\n"
     ]
    },
    {
     "data": {
      "image/png": "[encoded data removed]",
      "text/plain": [
       "<Figure size 600x300 with 1 Axes>"
      ]
     },
     "metadata": {},
     "output_type": "display_data"
    }
   ],
   "source": [
    "# describe the 'Amount_Log' column\n",
    "print(\"Description of 'Amount_Log' column:\")\n",
    "print(df['Amount_Log'].describe())\n",
    "\n",
    "print(line_break)\n",
    "\n",
    "print(\"Description of 'Amount_Log_Scaled' column:\")\n",
    "print(df['Amount_Log_Scaled'].describe())\n",
    "\n",
    "print(line_break)\n",
    "\n",
    "# lets visualize the distribution of the 'Amount_Log' column\n",
    "print(\"Distribution of 'Amount_Log_Scaled' column:\")\n",
    "plt.figure(figsize=(6, 3))\n",
    "plt.hist(df['Amount_Log_Scaled'], bins=100, edgecolor='black')\n",
    "plt.title('Distribution of Amount_Log_Scaled')\n",
    "plt.xlabel('Amount_Log_Scaled')\n",
    "plt.ylabel('Count')\n",
    "plt.axvline(df['Amount_Log_Scaled'].max(), color='red', linestyle='dashed', linewidth=1)\n",
    "plt.text(df['Amount_Log_Scaled'].max() + 0.1, 10000, 'Max')\n",
    "plt.text(df['Amount_Log_Scaled'].max() + 0.1, 9000, round(df['Amount_Log'].max(), 2))\n",
    "plt.axvline(df['Amount_Log_Scaled'].mean(), color='green', linestyle='dashed', linewidth=1)\n",
    "plt.text(df['Amount_Log_Scaled'].mean() + 0.1, 10000, 'Mean')\n",
    "plt.text(df['Amount_Log_Scaled'].mean() + 0.1, 9000, round(df['Amount_Log'].mean(), 2))\n",
    "plt.show()"
   ]
  },
  {
   "cell_type": "markdown",
   "metadata": {},
   "source": [
    "### Save the dataframe to csv"
   ]
  },
  {
   "cell_type": "code",
   "execution_count": null,
   "metadata": {},
   "outputs": [],
   "source": [
    "# save an xlsx file of the cleaned dataset\n",
    "df.to_excel('C:/Users/jonat/Documents/python/pyabon/ml_inlämning_1/AmazonDataSales_cleaned.xlsx', index=False)"
   ]
  },
  {
   "cell_type": "code",
   "execution_count": null,
   "metadata": {},
   "outputs": [],
   "source": []
  }
 ],
 "metadata": {
  "kernelspec": {
   "display_name": "ML_kurs",
   "language": "python",
   "name": "python3"
  },
  "language_info": {
   "codemirror_mode": {
    "name": "ipython",
    "version": 3
   },
   "file_extension": ".py",
   "mimetype": "text/x-python",
   "name": "python",
   "nbconvert_exporter": "python",
   "pygments_lexer": "ipython3",
   "version": "3.10.13"
  }
 },
 "nbformat": 4,
 "nbformat_minor": 2
}
